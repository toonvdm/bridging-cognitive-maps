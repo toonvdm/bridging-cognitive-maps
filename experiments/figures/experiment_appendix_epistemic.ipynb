{
 "cells": [
  {
   "cell_type": "code",
   "execution_count": 2,
   "metadata": {},
   "outputs": [],
   "source": [
    "%load_ext autoreload\n",
    "%autoreload 2"
   ]
  },
  {
   "cell_type": "code",
   "execution_count": 3,
   "metadata": {},
   "outputs": [],
   "source": [
    "import numpy as np \n",
    "from pathlib import Path\n",
    "\n",
    "import pandas as pd \n",
    "\n",
    "import hippo\n",
    "from hippo.agents import HierarchicalAgent, AgentModes, load_hippo_agent, load_prefrontal_agent\n",
    "from hippo.environments.action_perception import action_perception_loop\n",
    "from hippo.environments.w_maze import get_wmaze, WmazeTasks\n",
    "\n",
    "import matplotlib.pyplot as plt\n",
    "from scipy.stats import ttest_ind \n",
    "\n",
    "import random "
   ]
  },
  {
   "cell_type": "code",
   "execution_count": 4,
   "metadata": {},
   "outputs": [],
   "source": [
    "store_path = Path(hippo.__file__).parent.parent / \"data/results/experiment-appendix-epistemic\"\n",
    "store_path.mkdir(exist_ok=True, parents=True)\n",
    "\n",
    "def to_dataframe(logs, control_mode, agent_name, trial, goal=None):\n",
    "    d_new = {\n",
    "        \"trial\": [trial for _ in range(len(logs[\"action\"]))],\n",
    "        \"agent_name\": [agent_name for _ in range(len(logs[\"action\"]))],\n",
    "        \"control_mode\": [control_mode for _ in range(len(logs[\"action\"]))],\n",
    "        \"time\": np.arange(len(logs[\"action\"])),\n",
    "        \"action\": logs[\"action\"],\n",
    "        \"reward\": 1.0 * logs[\"reward\"],\n",
    "        \"pos_x\": [pose[0] for pose in logs[\"pose\"]],\n",
    "        \"pos_y\": [pose[1] for pose in logs[\"pose\"]],\n",
    "        \"pos_dir\": [pose[2] for pose in logs[\"pose\"]],\n",
    "        \"rules\": logs[\"rules\"],\n",
    "        \"inbound\": logs[\"inbound\"],\n",
    "        \"qs_pfc\": [lo.get('qs', None) for lo in logs['agent_info']]\n",
    "    }\n",
    "    if goal is not None: \n",
    "        d_new.update({\n",
    "            \"goal_reached\": [np.all(p == goal) for p in logs['pose']], \n",
    "            \"goal_x\": [goal[0] for _ in range(len(logs['action']))],\n",
    "            \"goal_y\": [goal[1] for _ in range(len(logs['action']))],\n",
    "            \"goal_dir\": [goal[2] for _ in range(len(logs['action']))],\n",
    "        })\n",
    "    return pd.DataFrame.from_dict(d_new)"
   ]
  },
  {
   "cell_type": "code",
   "execution_count": 24,
   "metadata": {},
   "outputs": [
    {
     "name": "stderr",
     "output_type": "stream",
     "text": [
      "/Users/toon.vandemaele/.pyenv/versions/3.11.6/envs/hippo/lib/python3.11/site-packages/gymnasium/core.py:311: UserWarning: \u001b[33mWARN: env.get_frame to get variables from other wrappers is deprecated and will be removed in v1.0, to get this variable you can do `env.unwrapped.get_frame` for environment variables or `env.get_wrapper_attr('get_frame')` that will search the reminding wrappers.\u001b[0m\n",
      "  logger.warn(\n"
     ]
    },
    {
     "data": {
      "application/vnd.jupyter.widget-view+json": {
       "model_id": "d671d7bf16284a66a620a26de567de2c",
       "version_major": 2,
       "version_minor": 0
      },
      "text/plain": [
       "  0%|          | 0/300 [00:00<?, ?it/s]"
      ]
     },
     "metadata": {},
     "output_type": "display_data"
    },
    {
     "name": "stdout",
     "output_type": "stream",
     "text": [
      "11 resets in this trial\n"
     ]
    },
    {
     "data": {
      "application/vnd.jupyter.widget-view+json": {
       "model_id": "60f42dc903694f8bbc6193fc0091ea51",
       "version_major": 2,
       "version_minor": 0
      },
      "text/plain": [
       "  0%|          | 0/300 [00:00<?, ?it/s]"
      ]
     },
     "metadata": {},
     "output_type": "display_data"
    },
    {
     "name": "stdout",
     "output_type": "stream",
     "text": [
      "7 resets in this trial\n"
     ]
    },
    {
     "data": {
      "application/vnd.jupyter.widget-view+json": {
       "model_id": "89bdc099b550442b88d6fa3f22caddac",
       "version_major": 2,
       "version_minor": 0
      },
      "text/plain": [
       "  0%|          | 0/300 [00:00<?, ?it/s]"
      ]
     },
     "metadata": {},
     "output_type": "display_data"
    },
    {
     "name": "stdout",
     "output_type": "stream",
     "text": [
      "7 resets in this trial\n"
     ]
    },
    {
     "data": {
      "application/vnd.jupyter.widget-view+json": {
       "model_id": "381f2192901b4343838b23f71c724af6",
       "version_major": 2,
       "version_minor": 0
      },
      "text/plain": [
       "  0%|          | 0/300 [00:00<?, ?it/s]"
      ]
     },
     "metadata": {},
     "output_type": "display_data"
    },
    {
     "name": "stdout",
     "output_type": "stream",
     "text": [
      "10 resets in this trial\n"
     ]
    },
    {
     "data": {
      "application/vnd.jupyter.widget-view+json": {
       "model_id": "2679b4f2b7574e0aa948984988fcc837",
       "version_major": 2,
       "version_minor": 0
      },
      "text/plain": [
       "  0%|          | 0/300 [00:00<?, ?it/s]"
      ]
     },
     "metadata": {},
     "output_type": "display_data"
    },
    {
     "name": "stdout",
     "output_type": "stream",
     "text": [
      "6 resets in this trial\n"
     ]
    },
    {
     "data": {
      "application/vnd.jupyter.widget-view+json": {
       "model_id": "430003b388d54d159399dd0b3d7e1980",
       "version_major": 2,
       "version_minor": 0
      },
      "text/plain": [
       "  0%|          | 0/300 [00:00<?, ?it/s]"
      ]
     },
     "metadata": {},
     "output_type": "display_data"
    },
    {
     "name": "stdout",
     "output_type": "stream",
     "text": [
      "7 resets in this trial\n"
     ]
    },
    {
     "data": {
      "application/vnd.jupyter.widget-view+json": {
       "model_id": "3d7a8922279142dfad21238e4ea64060",
       "version_major": 2,
       "version_minor": 0
      },
      "text/plain": [
       "  0%|          | 0/300 [00:00<?, ?it/s]"
      ]
     },
     "metadata": {},
     "output_type": "display_data"
    },
    {
     "name": "stdout",
     "output_type": "stream",
     "text": [
      "8 resets in this trial\n"
     ]
    },
    {
     "data": {
      "application/vnd.jupyter.widget-view+json": {
       "model_id": "552e2a159d654a259fe222a12c8a21d0",
       "version_major": 2,
       "version_minor": 0
      },
      "text/plain": [
       "  0%|          | 0/300 [00:00<?, ?it/s]"
      ]
     },
     "metadata": {},
     "output_type": "display_data"
    },
    {
     "name": "stdout",
     "output_type": "stream",
     "text": [
      "2 resets in this trial\n"
     ]
    },
    {
     "data": {
      "application/vnd.jupyter.widget-view+json": {
       "model_id": "97eb4f60c2b34e068432d2d86a0fbe41",
       "version_major": 2,
       "version_minor": 0
      },
      "text/plain": [
       "  0%|          | 0/300 [00:00<?, ?it/s]"
      ]
     },
     "metadata": {},
     "output_type": "display_data"
    },
    {
     "name": "stdout",
     "output_type": "stream",
     "text": [
      "7 resets in this trial\n"
     ]
    },
    {
     "data": {
      "application/vnd.jupyter.widget-view+json": {
       "model_id": "985f0a9211cd4f4686f15dbcd0607bed",
       "version_major": 2,
       "version_minor": 0
      },
      "text/plain": [
       "  0%|          | 0/300 [00:00<?, ?it/s]"
      ]
     },
     "metadata": {},
     "output_type": "display_data"
    },
    {
     "name": "stdout",
     "output_type": "stream",
     "text": [
      "13 resets in this trial\n"
     ]
    },
    {
     "data": {
      "application/vnd.jupyter.widget-view+json": {
       "model_id": "23ba609d822b4f818802c966185e2fa7",
       "version_major": 2,
       "version_minor": 0
      },
      "text/plain": [
       "  0%|          | 0/300 [00:00<?, ?it/s]"
      ]
     },
     "metadata": {},
     "output_type": "display_data"
    },
    {
     "name": "stdout",
     "output_type": "stream",
     "text": [
      "6 resets in this trial\n"
     ]
    },
    {
     "data": {
      "application/vnd.jupyter.widget-view+json": {
       "model_id": "904cd919ff8a4af4916eb25909924e88",
       "version_major": 2,
       "version_minor": 0
      },
      "text/plain": [
       "  0%|          | 0/300 [00:00<?, ?it/s]"
      ]
     },
     "metadata": {},
     "output_type": "display_data"
    },
    {
     "name": "stdout",
     "output_type": "stream",
     "text": [
      "5 resets in this trial\n"
     ]
    },
    {
     "data": {
      "application/vnd.jupyter.widget-view+json": {
       "model_id": "f5d21f0560b4493d85d58cf838a14e99",
       "version_major": 2,
       "version_minor": 0
      },
      "text/plain": [
       "  0%|          | 0/300 [00:00<?, ?it/s]"
      ]
     },
     "metadata": {},
     "output_type": "display_data"
    },
    {
     "name": "stdout",
     "output_type": "stream",
     "text": [
      "10 resets in this trial\n"
     ]
    },
    {
     "data": {
      "application/vnd.jupyter.widget-view+json": {
       "model_id": "69e6614c4e7343e8b2a4a0da23390750",
       "version_major": 2,
       "version_minor": 0
      },
      "text/plain": [
       "  0%|          | 0/300 [00:00<?, ?it/s]"
      ]
     },
     "metadata": {},
     "output_type": "display_data"
    },
    {
     "name": "stdout",
     "output_type": "stream",
     "text": [
      "12 resets in this trial\n"
     ]
    },
    {
     "data": {
      "application/vnd.jupyter.widget-view+json": {
       "model_id": "3f0965f4bfd3425883eaad0dd64180ad",
       "version_major": 2,
       "version_minor": 0
      },
      "text/plain": [
       "  0%|          | 0/300 [00:00<?, ?it/s]"
      ]
     },
     "metadata": {},
     "output_type": "display_data"
    },
    {
     "name": "stdout",
     "output_type": "stream",
     "text": [
      "9 resets in this trial\n"
     ]
    },
    {
     "data": {
      "application/vnd.jupyter.widget-view+json": {
       "model_id": "2c10edf538a34fb39cf52f08b0ad0a73",
       "version_major": 2,
       "version_minor": 0
      },
      "text/plain": [
       "  0%|          | 0/300 [00:00<?, ?it/s]"
      ]
     },
     "metadata": {},
     "output_type": "display_data"
    },
    {
     "name": "stdout",
     "output_type": "stream",
     "text": [
      "10 resets in this trial\n"
     ]
    },
    {
     "data": {
      "application/vnd.jupyter.widget-view+json": {
       "model_id": "8c3a2c35eaff4f9eb5c03d23adbe85c3",
       "version_major": 2,
       "version_minor": 0
      },
      "text/plain": [
       "  0%|          | 0/300 [00:00<?, ?it/s]"
      ]
     },
     "metadata": {},
     "output_type": "display_data"
    },
    {
     "name": "stdout",
     "output_type": "stream",
     "text": [
      "10 resets in this trial\n"
     ]
    },
    {
     "data": {
      "application/vnd.jupyter.widget-view+json": {
       "model_id": "171eea06f830427fa3683b796f45b0aa",
       "version_major": 2,
       "version_minor": 0
      },
      "text/plain": [
       "  0%|          | 0/300 [00:00<?, ?it/s]"
      ]
     },
     "metadata": {},
     "output_type": "display_data"
    },
    {
     "name": "stdout",
     "output_type": "stream",
     "text": [
      "5 resets in this trial\n"
     ]
    },
    {
     "data": {
      "application/vnd.jupyter.widget-view+json": {
       "model_id": "169b11a7890c474493e93e6d875a30e7",
       "version_major": 2,
       "version_minor": 0
      },
      "text/plain": [
       "  0%|          | 0/300 [00:00<?, ?it/s]"
      ]
     },
     "metadata": {},
     "output_type": "display_data"
    },
    {
     "name": "stdout",
     "output_type": "stream",
     "text": [
      "8 resets in this trial\n"
     ]
    },
    {
     "data": {
      "application/vnd.jupyter.widget-view+json": {
       "model_id": "9c09c5276d1c47c0a97fa5112082702d",
       "version_major": 2,
       "version_minor": 0
      },
      "text/plain": [
       "  0%|          | 0/300 [00:00<?, ?it/s]"
      ]
     },
     "metadata": {},
     "output_type": "display_data"
    },
    {
     "name": "stdout",
     "output_type": "stream",
     "text": [
      "10 resets in this trial\n"
     ]
    },
    {
     "name": "stderr",
     "output_type": "stream",
     "text": [
      "/Users/toon.vandemaele/.pyenv/versions/3.11.6/envs/hippo/lib/python3.11/site-packages/gymnasium/core.py:311: UserWarning: \u001b[33mWARN: env.get_frame to get variables from other wrappers is deprecated and will be removed in v1.0, to get this variable you can do `env.unwrapped.get_frame` for environment variables or `env.get_wrapper_attr('get_frame')` that will search the reminding wrappers.\u001b[0m\n",
      "  logger.warn(\n"
     ]
    },
    {
     "data": {
      "application/vnd.jupyter.widget-view+json": {
       "model_id": "d03f286430ae431e8b0fa0cd580b90a6",
       "version_major": 2,
       "version_minor": 0
      },
      "text/plain": [
       "  0%|          | 0/300 [00:00<?, ?it/s]"
      ]
     },
     "metadata": {},
     "output_type": "display_data"
    },
    {
     "name": "stdout",
     "output_type": "stream",
     "text": [
      "7 resets in this trial\n"
     ]
    },
    {
     "data": {
      "application/vnd.jupyter.widget-view+json": {
       "model_id": "7474c21f8ebb4f618f96c11545d7b16e",
       "version_major": 2,
       "version_minor": 0
      },
      "text/plain": [
       "  0%|          | 0/300 [00:00<?, ?it/s]"
      ]
     },
     "metadata": {},
     "output_type": "display_data"
    },
    {
     "name": "stdout",
     "output_type": "stream",
     "text": [
      "7 resets in this trial\n"
     ]
    },
    {
     "data": {
      "application/vnd.jupyter.widget-view+json": {
       "model_id": "8421442ea3714235b187b27293923a0a",
       "version_major": 2,
       "version_minor": 0
      },
      "text/plain": [
       "  0%|          | 0/300 [00:00<?, ?it/s]"
      ]
     },
     "metadata": {},
     "output_type": "display_data"
    },
    {
     "name": "stdout",
     "output_type": "stream",
     "text": [
      "4 resets in this trial\n"
     ]
    },
    {
     "data": {
      "application/vnd.jupyter.widget-view+json": {
       "model_id": "405a0de708d14896bf8f0c2c32e8d04c",
       "version_major": 2,
       "version_minor": 0
      },
      "text/plain": [
       "  0%|          | 0/300 [00:00<?, ?it/s]"
      ]
     },
     "metadata": {},
     "output_type": "display_data"
    },
    {
     "name": "stdout",
     "output_type": "stream",
     "text": [
      "6 resets in this trial\n"
     ]
    },
    {
     "data": {
      "application/vnd.jupyter.widget-view+json": {
       "model_id": "54bcf62419874bb39eaeecf2ca6f2967",
       "version_major": 2,
       "version_minor": 0
      },
      "text/plain": [
       "  0%|          | 0/300 [00:00<?, ?it/s]"
      ]
     },
     "metadata": {},
     "output_type": "display_data"
    },
    {
     "name": "stdout",
     "output_type": "stream",
     "text": [
      "8 resets in this trial\n"
     ]
    },
    {
     "data": {
      "application/vnd.jupyter.widget-view+json": {
       "model_id": "65c1c6fcc7364c4d856681f0b5ab169f",
       "version_major": 2,
       "version_minor": 0
      },
      "text/plain": [
       "  0%|          | 0/300 [00:00<?, ?it/s]"
      ]
     },
     "metadata": {},
     "output_type": "display_data"
    },
    {
     "name": "stdout",
     "output_type": "stream",
     "text": [
      "9 resets in this trial\n"
     ]
    },
    {
     "data": {
      "application/vnd.jupyter.widget-view+json": {
       "model_id": "cac7318d7bbe46d294fa62a1e0daa33a",
       "version_major": 2,
       "version_minor": 0
      },
      "text/plain": [
       "  0%|          | 0/300 [00:00<?, ?it/s]"
      ]
     },
     "metadata": {},
     "output_type": "display_data"
    },
    {
     "name": "stdout",
     "output_type": "stream",
     "text": [
      "5 resets in this trial\n"
     ]
    },
    {
     "data": {
      "application/vnd.jupyter.widget-view+json": {
       "model_id": "06d9ff9f2dc146a4abccdccd96aedba1",
       "version_major": 2,
       "version_minor": 0
      },
      "text/plain": [
       "  0%|          | 0/300 [00:00<?, ?it/s]"
      ]
     },
     "metadata": {},
     "output_type": "display_data"
    },
    {
     "name": "stdout",
     "output_type": "stream",
     "text": [
      "8 resets in this trial\n"
     ]
    },
    {
     "data": {
      "application/vnd.jupyter.widget-view+json": {
       "model_id": "b1f01dd56b364ba8900698e10ec377be",
       "version_major": 2,
       "version_minor": 0
      },
      "text/plain": [
       "  0%|          | 0/300 [00:00<?, ?it/s]"
      ]
     },
     "metadata": {},
     "output_type": "display_data"
    },
    {
     "name": "stdout",
     "output_type": "stream",
     "text": [
      "6 resets in this trial\n"
     ]
    },
    {
     "data": {
      "application/vnd.jupyter.widget-view+json": {
       "model_id": "d550ec9252dc45b7a9fc4a2ba7be4e70",
       "version_major": 2,
       "version_minor": 0
      },
      "text/plain": [
       "  0%|          | 0/300 [00:00<?, ?it/s]"
      ]
     },
     "metadata": {},
     "output_type": "display_data"
    },
    {
     "name": "stdout",
     "output_type": "stream",
     "text": [
      "16 resets in this trial\n"
     ]
    },
    {
     "data": {
      "application/vnd.jupyter.widget-view+json": {
       "model_id": "5e9ebea791d94121ab7be6c8e9e5134c",
       "version_major": 2,
       "version_minor": 0
      },
      "text/plain": [
       "  0%|          | 0/300 [00:00<?, ?it/s]"
      ]
     },
     "metadata": {},
     "output_type": "display_data"
    },
    {
     "name": "stdout",
     "output_type": "stream",
     "text": [
      "8 resets in this trial\n"
     ]
    },
    {
     "data": {
      "application/vnd.jupyter.widget-view+json": {
       "model_id": "d53ebc3c514947bab9a9b4c9f02a9efe",
       "version_major": 2,
       "version_minor": 0
      },
      "text/plain": [
       "  0%|          | 0/300 [00:00<?, ?it/s]"
      ]
     },
     "metadata": {},
     "output_type": "display_data"
    },
    {
     "name": "stdout",
     "output_type": "stream",
     "text": [
      "6 resets in this trial\n"
     ]
    },
    {
     "data": {
      "application/vnd.jupyter.widget-view+json": {
       "model_id": "4f47d2dc70e24f7fa3e249707e5b670a",
       "version_major": 2,
       "version_minor": 0
      },
      "text/plain": [
       "  0%|          | 0/300 [00:00<?, ?it/s]"
      ]
     },
     "metadata": {},
     "output_type": "display_data"
    },
    {
     "name": "stdout",
     "output_type": "stream",
     "text": [
      "13 resets in this trial\n"
     ]
    },
    {
     "data": {
      "application/vnd.jupyter.widget-view+json": {
       "model_id": "01a9663189734bfbaf6950aba514e7d2",
       "version_major": 2,
       "version_minor": 0
      },
      "text/plain": [
       "  0%|          | 0/300 [00:00<?, ?it/s]"
      ]
     },
     "metadata": {},
     "output_type": "display_data"
    },
    {
     "name": "stdout",
     "output_type": "stream",
     "text": [
      "8 resets in this trial\n"
     ]
    },
    {
     "data": {
      "application/vnd.jupyter.widget-view+json": {
       "model_id": "44d590cb05e6457b994ab5437a9f8e56",
       "version_major": 2,
       "version_minor": 0
      },
      "text/plain": [
       "  0%|          | 0/300 [00:00<?, ?it/s]"
      ]
     },
     "metadata": {},
     "output_type": "display_data"
    },
    {
     "name": "stdout",
     "output_type": "stream",
     "text": [
      "8 resets in this trial\n"
     ]
    },
    {
     "data": {
      "application/vnd.jupyter.widget-view+json": {
       "model_id": "e6f74bb7430e41b4ac461c7eea4cfe4a",
       "version_major": 2,
       "version_minor": 0
      },
      "text/plain": [
       "  0%|          | 0/300 [00:00<?, ?it/s]"
      ]
     },
     "metadata": {},
     "output_type": "display_data"
    },
    {
     "name": "stdout",
     "output_type": "stream",
     "text": [
      "13 resets in this trial\n"
     ]
    },
    {
     "data": {
      "application/vnd.jupyter.widget-view+json": {
       "model_id": "1e03b76f45f246479108c519212ea0e4",
       "version_major": 2,
       "version_minor": 0
      },
      "text/plain": [
       "  0%|          | 0/300 [00:00<?, ?it/s]"
      ]
     },
     "metadata": {},
     "output_type": "display_data"
    },
    {
     "name": "stdout",
     "output_type": "stream",
     "text": [
      "9 resets in this trial\n"
     ]
    },
    {
     "data": {
      "application/vnd.jupyter.widget-view+json": {
       "model_id": "cc74b9fbed7e445584ce565316e9713f",
       "version_major": 2,
       "version_minor": 0
      },
      "text/plain": [
       "  0%|          | 0/300 [00:00<?, ?it/s]"
      ]
     },
     "metadata": {},
     "output_type": "display_data"
    },
    {
     "name": "stdout",
     "output_type": "stream",
     "text": [
      "5 resets in this trial\n"
     ]
    },
    {
     "data": {
      "application/vnd.jupyter.widget-view+json": {
       "model_id": "11eba5271d8f49d7852e9cbd121dd5ed",
       "version_major": 2,
       "version_minor": 0
      },
      "text/plain": [
       "  0%|          | 0/300 [00:00<?, ?it/s]"
      ]
     },
     "metadata": {},
     "output_type": "display_data"
    },
    {
     "name": "stdout",
     "output_type": "stream",
     "text": [
      "6 resets in this trial\n"
     ]
    },
    {
     "data": {
      "application/vnd.jupyter.widget-view+json": {
       "model_id": "d6a14edd764f4f4ab2e0845d8bf24565",
       "version_major": 2,
       "version_minor": 0
      },
      "text/plain": [
       "  0%|          | 0/300 [00:00<?, ?it/s]"
      ]
     },
     "metadata": {},
     "output_type": "display_data"
    },
    {
     "name": "stdout",
     "output_type": "stream",
     "text": [
      "6 resets in this trial\n"
     ]
    }
   ],
   "source": [
    "n_resets = 0\n",
    "def reset_callback(agent, env_info):\n",
    "    global n_resets\n",
    "    \"\"\"\n",
    "    reset the agent's navigation in 2/3 chances when entering a corridor\n",
    "    \"\"\"\n",
    "    if (env_info['pose'][1] == 3 and env_info['pose'][2] == 3):\n",
    "        if np.random.randint(3) < 1: \n",
    "            agent.reset()\n",
    "            n_resets += 1\n",
    "\n",
    "def run_experiment(\n",
    "        agent_mode, store_path, epistemic, n_steps=150, n_trials=5\n",
    "    ):\n",
    "    global n_resets\n",
    "    \"\"\"\n",
    "    Runs the action control loop for an agent for multiple trials. \n",
    "    A control and disruption scenario is ran and the metrics are stored\n",
    "    unless the agent is random (does not use state to select action) \n",
    "    \"\"\"\n",
    "    run_logs_df = pd.DataFrame()\n",
    "    for trial in range(n_trials):\n",
    "        control_key = \"control\"\n",
    "\n",
    "        np.random.seed(trial)\n",
    "        random.seed(trial)\n",
    "\n",
    "        model_hippo = load_hippo_agent()\n",
    "        model_pf = load_prefrontal_agent(agent_mode=agent_mode)\n",
    "\n",
    "        model_hippo.use_epistemic = epistemic\n",
    "        model_pf.agent.use_states_info_gain = epistemic\n",
    "        agent = HierarchicalAgent(\n",
    "            model_pf=model_pf,\n",
    "            model_hippo=model_hippo,\n",
    "            fe_threshold=-14.8,\n",
    "            name=agent_mode.name,\n",
    "        )\n",
    "        agent.reset()\n",
    "\n",
    "        run_logs = action_perception_loop(\n",
    "            get_wmaze(\n",
    "                task_mode=WmazeTasks.TASK0,\n",
    "                cycle_rules_every=n_steps, \n",
    "                cycle_rules_random=False,\n",
    "                n_rules=1,\n",
    "            ),\n",
    "            agent,\n",
    "            n_steps,\n",
    "            record_frames=False,\n",
    "            record_agent_info=True,\n",
    "            observable_reward=True,\n",
    "            callbacks=[reset_callback],\n",
    "            observable_light=False,\n",
    "            progress_bar=True\n",
    "        )\n",
    "        print(n_resets, \"resets in this trial\")\n",
    "        n_resets = 0\n",
    "\n",
    "        df = to_dataframe(run_logs, control_key, agent.name, trial)\n",
    "        run_logs_df = pd.concat([run_logs_df, df])\n",
    "\n",
    "    run_logs_df.to_csv(store_path / f\"{agent_mode}_{epistemic}.csv\")\n",
    "\n",
    "n_trials = 20\n",
    "ns = 300\n",
    "\n",
    "run_experiment(\n",
    "    AgentModes.CSCG_LOC_RULE0, \n",
    "    epistemic=False,\n",
    "    store_path=store_path, \n",
    "    n_trials=n_trials,\n",
    "    n_steps=ns\n",
    ")\n",
    "\n",
    "run_experiment(\n",
    "    AgentModes.CSCG_LOC_RULE0, \n",
    "    epistemic=True,\n",
    "    store_path=store_path, \n",
    "    n_trials=n_trials,\n",
    "    n_steps=ns\n",
    ")"
   ]
  },
  {
   "cell_type": "code",
   "execution_count": 51,
   "metadata": {},
   "outputs": [
    {
     "name": "stdout",
     "output_type": "stream",
     "text": [
      "Epistemic...\n",
      "23.480844710844714 0.6304301784816491\n",
      "Utility...\n",
      "26.31602071131483 0.5066028596446553\n"
     ]
    },
    {
     "data": {
      "image/png": "[encoded data removed]",
      "text/plain": [
       "<Figure size 325x200 with 1 Axes>"
      ]
     },
     "metadata": {},
     "output_type": "display_data"
    },
    {
     "data": {
      "image/png": "[encoded data removed]",
      "text/plain": [
       "<Figure size 325x200 with 1 Axes>"
      ]
     },
     "metadata": {},
     "output_type": "display_data"
    },
    {
     "name": "stdout",
     "output_type": "stream",
     "text": [
      "11.0 9.5\n"
     ]
    },
    {
     "data": {
      "text/plain": [
       "<Figure size 640x480 with 0 Axes>"
      ]
     },
     "metadata": {},
     "output_type": "display_data"
    },
    {
     "name": "stdout",
     "output_type": "stream",
     "text": [
      "inbetween time EPI vs UTI t-test\n",
      "T-test:  TtestResult(statistic=-0.9511838616022888, pvalue=0.3475221366136624, df=38.0)\n",
      "average success rate EPI vs UTI t-test\n",
      "T-test:  TtestResult(statistic=2.557242186035472, pvalue=0.014665585437887783, df=38.0)\n",
      "average summed reward EPI vs UTI t-test\n",
      "T-test:  TtestResult(statistic=1.4217160742372865, pvalue=0.16326469400608823, df=38.0)\n"
     ]
    }
   ],
   "source": [
    "from hippo.visualization import format_ax\n",
    "def time_inbetween_rewards(data_tot):\n",
    "    inbetween = []\n",
    "    rewards = []\n",
    "    reward_sums= []\n",
    "    for trial in np.arange(20):\n",
    "        data = data_tot[data_tot['trial'] == trial]\n",
    "\n",
    "        data = data[data[\"pos_y\"] == 1]\n",
    "        data = data[data[\"pos_dir\"] == 3]\n",
    "\n",
    "        rewards.append(data['reward'].mean())\n",
    "        reward_sums.append(data['reward'].sum())\n",
    "\n",
    "        data = data[data['reward'] == 1]\n",
    "        times = sorted(data['time'].tolist())\n",
    "        ib = []\n",
    "        if len(times) > 0:\n",
    "            t0 = times[0]\n",
    "            for t in times[1:]:\n",
    "                ib.append(t-t0)\n",
    "                t0 = t\n",
    "\n",
    "        #inbetween.extend(ib)\n",
    "        if len(ib) > 0:\n",
    "            inbetween.append(np.mean(ib))\n",
    "\n",
    "    return inbetween, rewards, reward_sums\n",
    "\n",
    "\n",
    "print(\"Epistemic...\")\n",
    "data = pd.read_csv(store_path / f\"CSCG_LOC_RULE0_True.csv\")\n",
    "inb_epi, rew_epi, rew_sum_epi = time_inbetween_rewards(data)\n",
    "print(np.mean(inb_epi), np.mean(rew_epi))\n",
    "\n",
    "print(\"Utility...\")\n",
    "data = pd.read_csv(store_path / f\"CSCG_LOC_RULE0_False.csv\")\n",
    "inb_uti, rew_uti, rew_sum_uti = time_inbetween_rewards(data)\n",
    "print(np.mean(inb_uti), np.mean(rew_uti))\n",
    "\n",
    "medianprops = dict(linestyle='-', linewidth=1.0, color='black')\n",
    "\n",
    "fig, ax = plt.subplots(1, 1, figsize=(6.5/2, 2))\n",
    "format_ax(ax)\n",
    "ax.boxplot([inb_epi, inb_uti], medianprops=medianprops)\n",
    "ax.set_ylabel(\"Steps between reward\")\n",
    "ax.set_xticks([1, 2])\n",
    "ax.set_xticklabels([\"Active Inference\", \"Utility\"])\n",
    "plt.savefig(store_path / \"robustness_noise_steps.svg\", bbox_inches='tight')\n",
    "plt.show()\n",
    "\n",
    "fig, ax = plt.subplots(1, 1, figsize=(6.5/2, 2))\n",
    "format_ax(ax)\n",
    "ax.boxplot([rew_epi, rew_uti], medianprops=medianprops)\n",
    "ax.set_ylabel(\"Success rate\")\n",
    "ax.set_xticks([1, 2])\n",
    "ax.set_ylim([0, 1.05])\n",
    "ax.set_xticklabels([\"Active Inference\", \"Utility\"])\n",
    "plt.savefig(store_path / \"robustness_noise_reward.svg\", bbox_inches='tight')\n",
    "plt.show()\n",
    "\n",
    "print(np.mean(rew_sum_epi), np.mean(rew_sum_uti))\n",
    "# ax[2].boxplot([rew_sum_epi, rew_sum_uti], medianprops=medianprops)\n",
    "# ax[2].set_ylabel(\"Average summed reward\")\n",
    "# ax[2].set_xticks([1, 2])\n",
    "# ax[2].set_xticklabels([\"Active Inference\", \"Utility\"])\n",
    "#plt.tight_layout()\n",
    "plt.savefig(store_path / \"robustness_noise.svg\", bbox_inches='tight')\n",
    "plt.show()\n",
    "\n",
    "print(\"inbetween time EPI vs UTI t-test\")\n",
    "print(\"T-test: \", ttest_ind(inb_epi, inb_uti))\n",
    "print(\"average success rate EPI vs UTI t-test\")\n",
    "print(\"T-test: \", ttest_ind(rew_epi, rew_uti))\n",
    "\n",
    "print(\"average summed reward EPI vs UTI t-test\")\n",
    "print(\"T-test: \", ttest_ind(rew_sum_epi, rew_sum_uti))"
   ]
  }
 ],
 "metadata": {
  "kernelspec": {
   "display_name": "hippo",
   "language": "python",
   "name": "python3"
  },
  "language_info": {
   "codemirror_mode": {
    "name": "ipython",
    "version": 3
   },
   "file_extension": ".py",
   "mimetype": "text/x-python",
   "name": "python",
   "nbconvert_exporter": "python",
   "pygments_lexer": "ipython3",
   "version": "3.11.6"
  }
 },
 "nbformat": 4,
 "nbformat_minor": 2
}
