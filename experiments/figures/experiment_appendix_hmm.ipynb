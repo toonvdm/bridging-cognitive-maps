{
 "cells": [
  {
   "cell_type": "markdown",
   "metadata": {},
   "source": [
    "### Experiment: Navigation level - CSCG vs HMM"
   ]
  },
  {
   "cell_type": "code",
   "execution_count": 1,
   "metadata": {},
   "outputs": [],
   "source": [
    "%load_ext autoreload\n",
    "%autoreload 2"
   ]
  },
  {
   "cell_type": "code",
   "execution_count": 2,
   "metadata": {},
   "outputs": [
    {
     "name": "stdout",
     "output_type": "stream",
     "text": [
      "pygame 2.5.2 (SDL 2.28.3, Python 3.11.6)\n",
      "Hello from the pygame community. https://www.pygame.org/contribute.html\n"
     ]
    }
   ],
   "source": [
    "import numpy as np\n",
    "\n",
    "from pathlib import Path\n",
    "\n",
    "from hippo.agents.hmm_agent import HMMAgent\n",
    "from hippo.environments.action_perception import action_perception_loop\n",
    "from hippo.environments.sequences import EvaluationSequences3x3WMaze\n",
    "from hippo.environments.w_maze import get_wmaze\n",
    "from hippo.agents.replay_agent import ReplayAgent\n",
    "from hippo import load_object\n",
    "from hippo import get_data_path\n",
    "\n",
    "import matplotlib.pyplot as plt\n",
    "\n",
    "from copy import copy"
   ]
  },
  {
   "cell_type": "code",
   "execution_count": 3,
   "metadata": {},
   "outputs": [],
   "source": [
    "import hippo\n",
    "\n",
    "store_path = Path(hippo.__file__).parent.parent / \"data/results/experiment-hmm\"\n",
    "store_path.mkdir(exist_ok=True, parents=True)"
   ]
  },
  {
   "cell_type": "code",
   "execution_count": 5,
   "metadata": {},
   "outputs": [],
   "source": [
    "\n",
    "from hippo.visualization.maze import add_wmaze_plot\n",
    "from hippo.visualization import visualize_trajectories\n",
    "\n",
    "import matplotlib.patches as mpatches\n",
    "\n",
    "def _replay_sequence(goal_index, start_index, sequences):\n",
    "    env = get_wmaze(sequences.start_positions[start_index])\n",
    "\n",
    "    actions = sequences.action_sequences[goal_index][start_index]\n",
    "    run_logs = action_perception_loop(\n",
    "        env,\n",
    "        ReplayAgent(copy(actions) + [2]),\n",
    "        len(actions) + 1,\n",
    "        record_frames=False,\n",
    "        record_agent_info=False,\n",
    "        progress_bar=False\n",
    "    )\n",
    "    return run_logs\n",
    "\n",
    "def _decode_belief(agent_ui, run_logs):\n",
    "    agent_ui.reset()\n",
    "    for o, a in zip(run_logs[\"obs\"], run_logs[\"action\"]):\n",
    "        qs = agent_ui.replay_step(o, a)\n",
    "    # Add zeroth dimension because of pymdp legacy: TODO refactor it all\n",
    "    return [np.array([qs])]\n",
    "\n",
    "def generate_trajectory_end_state(agent_ui):\n",
    "    sequences = EvaluationSequences3x3WMaze()\n",
    "\n",
    "    trajectories = []\n",
    "    for goal_index in sequences.goal_positions.keys():\n",
    "        for start_index in sequences.start_positions.keys():\n",
    "            # Replay the actions of the sequence\n",
    "            run_logs = _replay_sequence(goal_index, start_index, sequences)\n",
    "            # Use the logs to decode into a belief over the end state\n",
    "            beliefs = _decode_belief(agent_ui, run_logs)\n",
    "\n",
    "            # Store the intermediate results in a trajectories dictionary\n",
    "            trajectories.append(\n",
    "                {\n",
    "                    \"pose\": run_logs[\"pose\"],\n",
    "                    \"goal_index\": goal_index,\n",
    "                    \"start_index\": start_index,\n",
    "                }\n",
    "            )\n",
    "            trajectories[-1].update(\n",
    "                {\n",
    "                    f\"end_state_{i}\": b[0].argmax()\n",
    "                    for i, b in enumerate(beliefs)\n",
    "                }\n",
    "            )\n",
    "    return trajectories\n",
    "\n",
    "\n",
    "cmap = plt.cm.tab10\n",
    "\n",
    "def add_offset_y(py, offset): \n",
    "    y = py.copy().astype(np.float32)\n",
    "    for i in range(len(y)): \n",
    "        if y[i] > 3:\n",
    "            y[i] = py[i] + offset\n",
    "    return y\n",
    "\n",
    "def plot_poses(poses, states, state_to_idx, ax):\n",
    "\n",
    "    for i, (pose, end_state) in enumerate(zip(poses, states)):\n",
    "\n",
    "        offset = (i / len(poses) * 0.80) - 0.40\n",
    "        px = pose[:, 0] + offset\n",
    "        py = add_offset_y(pose[:, 1], offset)\n",
    "\n",
    "        c = cmap(state_to_idx[end_state])\n",
    "        alpha = 0.55\n",
    "\n",
    "        for pxi, pyi, pxn, pyn in zip(px[:-1], py[:-1], px[1:], py[1:]):\n",
    "            if abs(pxn - pxi) > 0 or abs(pyn - pyi) > 0:\n",
    "                ax.arrow(\n",
    "                    pxi,\n",
    "                    pyi,\n",
    "                    pxn - pxi,\n",
    "                    pyn - pyi,\n",
    "                    head_width=0.25,\n",
    "                    alpha=alpha,\n",
    "                    length_includes_head=True,\n",
    "                    color=c,\n",
    "                )\n",
    "\n",
    "def plot_trajectory(trajectories, title=\"\"): \n",
    "\n",
    "    poses = [ti['pose'] for ti in trajectories]\n",
    "    states = [ti['end_state_0'] for ti in trajectories]\n",
    "\n",
    "\n",
    "    labels = []\n",
    "    for k in np.unique(states):\n",
    "        n_occ = np.sum([1 for s in states if s == k])\n",
    "        labels.append((k, n_occ))\n",
    "    \n",
    "    labels = sorted(labels, key=lambda x: x[1])\n",
    "    state_to_idx = {q[0]: i for i, q in enumerate(labels)}\n",
    "\n",
    "    fig, ax = plt.subplots(1, 3, figsize=(8, 16))\n",
    "    [a.set_aspect(\"equal\") for a in ax.flatten()]\n",
    "    [a.axis('off') for a in ax.flatten()]\n",
    "    [add_wmaze_plot(a, \"gray\") for a in ax.flatten()] \n",
    "\n",
    "    used_states = []\n",
    "    for i in range(3):\n",
    "        loc = [1, 4, 7][i]\n",
    "        idcs = [i for i in range(len(trajectories)) if trajectories[i]['pose'][-1][0] == loc]\n",
    "\n",
    "        # Only consider starting if in the bottom un-ambiguous case\n",
    "        idcs = [i for i in idcs if trajectories[i]['pose'][0][1] == 4]\n",
    "\n",
    "        used_states += [trajectories[i][\"end_state_0\"] for i in idcs]\n",
    "\n",
    "        plot_poses(\n",
    "            [poses[i] for i in idcs], \n",
    "            [states[i] for i in idcs], \n",
    "            state_to_idx, \n",
    "            ax[i]\n",
    "        )\n",
    "\n",
    "    patches = []\n",
    "    for k, v in state_to_idx.items():\n",
    "        if k in np.unique(used_states):\n",
    "            n_occ = np.sum([1 for s in used_states if s == k])\n",
    "            patches += [mpatches.Patch(color=cmap(v), label=f'State {k} ({n_occ})')]\n",
    "\n",
    "    ax[1].legend(\n",
    "        loc=\"upper center\", \n",
    "        handles=patches, \n",
    "        ncol=3, \n",
    "        bbox_to_anchor=(0.5, -0.05),\n",
    "        fancybox=True, \n",
    "        shadow=True\n",
    "    )\n",
    "\n",
    "    ax[1].set_title(title, pad=15)\n",
    "    plt.savefig(store_path / (title.replace(\" \", \"_\") + \".svg\"), bbox_inches=\"tight\")\n",
    "    plt.show()"
   ]
  },
  {
   "cell_type": "code",
   "execution_count": 7,
   "metadata": {},
   "outputs": [],
   "source": [
    "# HMM trained using the script in experiments/navigation/train_hmm.py\n",
    "hmm_path = get_data_path() / \"models/navigation\"\n",
    "agent_path = hmm_path / f\"hmm_hippo.pkl\"\n",
    "tokenizer_path = hmm_path / \"hmm_tokenizer.pkl\"\n",
    "\n",
    "config = {\n",
    "    \"hmm_path\": str(agent_path),\n",
    "    \"tokenizer_path\": str(tokenizer_path),\n",
    "    \"agent\": {\n",
    "        \"reduce\": True,\n",
    "        \"gamma\": 16, #0.5,\n",
    "        \"policy_len\": 5,\n",
    "        \"random_actions\": False,\n",
    "        \"preference_diffusion\": True,\n",
    "    },\n",
    "}\n",
    "\n",
    "tokenizer = load_object(config[\"tokenizer_path\"])\n",
    "\n",
    "hmm = load_object(config[\"hmm_path\"])\n",
    "\n",
    "hmm_viterbi_agent = HMMAgent(\n",
    "    tokenizer=tokenizer,\n",
    "    hmm=hmm,\n",
    "    random_actions=config[\"agent\"][\"random_actions\"],\n",
    "    policy_len=config[\"agent\"][\"policy_len\"],\n",
    "    reduce=config[\"agent\"][\"reduce\"],\n",
    "    gamma=config[\"agent\"][\"gamma\"],\n",
    "    preference_diffusion=config[\"agent\"][\"preference_diffusion\"],\n",
    ")\n",
    "hmm_viterbi_agent.reset()"
   ]
  },
  {
   "cell_type": "code",
   "execution_count": 8,
   "metadata": {},
   "outputs": [
    {
     "name": "stderr",
     "output_type": "stream",
     "text": [
      "/Users/toon.vandemaele/.pyenv/versions/3.11.6/envs/hippo/lib/python3.11/site-packages/gymnasium/core.py:311: UserWarning: \u001b[33mWARN: env.possible_starts to get variables from other wrappers is deprecated and will be removed in v1.0, to get this variable you can do `env.unwrapped.possible_starts` for environment variables or `env.get_wrapper_attr('possible_starts')` that will search the reminding wrappers.\u001b[0m\n",
      "  logger.warn(\n",
      "/Users/toon.vandemaele/.pyenv/versions/3.11.6/envs/hippo/lib/python3.11/site-packages/gymnasium/core.py:311: UserWarning: \u001b[33mWARN: env.get_frame to get variables from other wrappers is deprecated and will be removed in v1.0, to get this variable you can do `env.unwrapped.get_frame` for environment variables or `env.get_wrapper_attr('get_frame')` that will search the reminding wrappers.\u001b[0m\n",
      "  logger.warn(\n"
     ]
    },
    {
     "ename": "KeyboardInterrupt",
     "evalue": "",
     "output_type": "error",
     "traceback": [
      "\u001b[0;31m---------------------------------------------------------------------------\u001b[0m",
      "\u001b[0;31mKeyboardInterrupt\u001b[0m                         Traceback (most recent call last)",
      "Cell \u001b[0;32mIn[8], line 1\u001b[0m\n\u001b[0;32m----> 1\u001b[0m t \u001b[38;5;241m=\u001b[39m \u001b[43mgenerate_trajectory_end_state\u001b[49m\u001b[43m(\u001b[49m\u001b[43mhmm_viterbi_agent\u001b[49m\u001b[43m)\u001b[49m\n\u001b[1;32m      2\u001b[0m plot_trajectory(t, \u001b[38;5;124m\"\u001b[39m\u001b[38;5;124mHMM Agent + Viterbi\u001b[39m\u001b[38;5;124m\"\u001b[39m)\n",
      "Cell \u001b[0;32mIn[5], line 36\u001b[0m, in \u001b[0;36mgenerate_trajectory_end_state\u001b[0;34m(agent_ui)\u001b[0m\n\u001b[1;32m     34\u001b[0m run_logs \u001b[38;5;241m=\u001b[39m _replay_sequence(goal_index, start_index, sequences)\n\u001b[1;32m     35\u001b[0m \u001b[38;5;66;03m# Use the logs to decode into a belief over the end state\u001b[39;00m\n\u001b[0;32m---> 36\u001b[0m beliefs \u001b[38;5;241m=\u001b[39m \u001b[43m_decode_belief\u001b[49m\u001b[43m(\u001b[49m\u001b[43magent_ui\u001b[49m\u001b[43m,\u001b[49m\u001b[43m \u001b[49m\u001b[43mrun_logs\u001b[49m\u001b[43m)\u001b[49m\n\u001b[1;32m     38\u001b[0m \u001b[38;5;66;03m# Store the intermediate results in a trajectories dictionary\u001b[39;00m\n\u001b[1;32m     39\u001b[0m trajectories\u001b[38;5;241m.\u001b[39mappend(\n\u001b[1;32m     40\u001b[0m     {\n\u001b[1;32m     41\u001b[0m         \u001b[38;5;124m\"\u001b[39m\u001b[38;5;124mpose\u001b[39m\u001b[38;5;124m\"\u001b[39m: run_logs[\u001b[38;5;124m\"\u001b[39m\u001b[38;5;124mpose\u001b[39m\u001b[38;5;124m\"\u001b[39m],\n\u001b[0;32m   (...)\u001b[0m\n\u001b[1;32m     44\u001b[0m     }\n\u001b[1;32m     45\u001b[0m )\n",
      "Cell \u001b[0;32mIn[5], line 23\u001b[0m, in \u001b[0;36m_decode_belief\u001b[0;34m(agent_ui, run_logs)\u001b[0m\n\u001b[1;32m     21\u001b[0m agent_ui\u001b[38;5;241m.\u001b[39mreset()\n\u001b[1;32m     22\u001b[0m \u001b[38;5;28;01mfor\u001b[39;00m o, a \u001b[38;5;129;01min\u001b[39;00m \u001b[38;5;28mzip\u001b[39m(run_logs[\u001b[38;5;124m\"\u001b[39m\u001b[38;5;124mobs\u001b[39m\u001b[38;5;124m\"\u001b[39m], run_logs[\u001b[38;5;124m\"\u001b[39m\u001b[38;5;124maction\u001b[39m\u001b[38;5;124m\"\u001b[39m]):\n\u001b[0;32m---> 23\u001b[0m     qs \u001b[38;5;241m=\u001b[39m \u001b[43magent_ui\u001b[49m\u001b[38;5;241;43m.\u001b[39;49m\u001b[43mreplay_step\u001b[49m\u001b[43m(\u001b[49m\u001b[43mo\u001b[49m\u001b[43m,\u001b[49m\u001b[43m \u001b[49m\u001b[43ma\u001b[49m\u001b[43m)\u001b[49m\n\u001b[1;32m     24\u001b[0m \u001b[38;5;66;03m# Add zeroth dimension because of pymdp legacy: TODO refactor it all\u001b[39;00m\n\u001b[1;32m     25\u001b[0m \u001b[38;5;28;01mreturn\u001b[39;00m [np\u001b[38;5;241m.\u001b[39marray([qs])]\n",
      "File \u001b[0;32m~/Projects/hippo/hippo/agents/hmm_agent.py:268\u001b[0m, in \u001b[0;36mHMMAgent.replay_step\u001b[0;34m(self, pixel_obs, action)\u001b[0m\n\u001b[1;32m    266\u001b[0m \u001b[38;5;28;01mdef\u001b[39;00m \u001b[38;5;21mreplay_step\u001b[39m(\u001b[38;5;28mself\u001b[39m, pixel_obs, action):\n\u001b[1;32m    267\u001b[0m     obs \u001b[38;5;241m=\u001b[39m \u001b[38;5;28mself\u001b[39m\u001b[38;5;241m.\u001b[39mtokenizer(pixel_obs\u001b[38;5;241m.\u001b[39mreshape(\u001b[38;5;241m-\u001b[39m\u001b[38;5;241m1\u001b[39m, \u001b[38;5;241m*\u001b[39mpixel_obs\u001b[38;5;241m.\u001b[39mshape))[\u001b[38;5;241m0\u001b[39m]\n\u001b[0;32m--> 268\u001b[0m     qs \u001b[38;5;241m=\u001b[39m \u001b[38;5;28;43mself\u001b[39;49m\u001b[38;5;241;43m.\u001b[39;49m\u001b[43minfer_states\u001b[49m\u001b[43m(\u001b[49m\u001b[43mobs\u001b[49m\u001b[43m,\u001b[49m\u001b[43m \u001b[49m\u001b[38;5;28;43mself\u001b[39;49m\u001b[38;5;241;43m.\u001b[39;49m\u001b[43mqs\u001b[49m\u001b[43m)\u001b[49m\n\u001b[1;32m    269\u001b[0m     \u001b[38;5;28mself\u001b[39m\u001b[38;5;241m.\u001b[39mupdate_states(qs)\n\u001b[1;32m    270\u001b[0m     \u001b[38;5;28mself\u001b[39m\u001b[38;5;241m.\u001b[39mupdate_obs(obs)\n",
      "File \u001b[0;32m~/Projects/hippo/hippo/agents/hmm_agent.py:207\u001b[0m, in \u001b[0;36mHMMAgent.infer_states\u001b[0;34m(self, obs, qs_prev, aij)\u001b[0m\n\u001b[1;32m    204\u001b[0m \u001b[38;5;28;01mif\u001b[39;00m aij \u001b[38;5;129;01mis\u001b[39;00m \u001b[38;5;28;01mNone\u001b[39;00m:\n\u001b[1;32m    205\u001b[0m     aij \u001b[38;5;241m=\u001b[39m \u001b[38;5;28mself\u001b[39m\u001b[38;5;241m.\u001b[39mactions[\u001b[38;5;28mself\u001b[39m\u001b[38;5;241m.\u001b[39mn_steps \u001b[38;5;241m-\u001b[39m \u001b[38;5;241m1\u001b[39m]\n\u001b[0;32m--> 207\u001b[0m prior \u001b[38;5;241m=\u001b[39m \u001b[38;5;28mself\u001b[39m\u001b[38;5;241m.\u001b[39mT[aij]\u001b[38;5;241m.\u001b[39mdot(qs_prev)\n\u001b[1;32m    208\u001b[0m likelihood \u001b[38;5;241m=\u001b[39m \u001b[38;5;28mself\u001b[39m\u001b[38;5;241m.\u001b[39mlikelihood[obs, :]\n\u001b[1;32m    209\u001b[0m qs \u001b[38;5;241m=\u001b[39m prior \u001b[38;5;241m*\u001b[39m likelihood\n",
      "\u001b[0;31mKeyboardInterrupt\u001b[0m: "
     ]
    }
   ],
   "source": [
    "t = generate_trajectory_end_state(hmm_viterbi_agent)\n",
    "plot_trajectory(t, \"HMM Agent + Viterbi\")"
   ]
  },
  {
   "cell_type": "code",
   "execution_count": 219,
   "metadata": {},
   "outputs": [
    {
     "name": "stdout",
     "output_type": "stream",
     "text": [
      "20 381\n",
      "(380, 19)\n"
     ]
    }
   ],
   "source": [
    "\n",
    "hmm_path = get_data_path() / \"data/models/navigation\"\n",
    "agent_path = hmm_path / f\"hmm_hippo.pkl\"\n",
    "tokenizer_path = hmm_path / \"hmm_tokenizer.pkl\"\n",
    "\n",
    "config = {\n",
    "    \"hmm_path\": str(agent_path),\n",
    "    \"tokenizer_path\": str(tokenizer_path),\n",
    "    \"agent\": {\n",
    "        \"reduce\": True,\n",
    "        \"gamma\": 16, #0.5,\n",
    "        \"policy_len\": 5,\n",
    "        \"random_actions\": False,\n",
    "        \"preference_diffusion\": True,\n",
    "    },\n",
    "}\n",
    "\n",
    "tokenizer = load_object(config[\"tokenizer_path\"])\n",
    "\n",
    "hmm = load_object(config[\"hmm_path\"])\n",
    "\n",
    "hmm_agent = HMMAgent(\n",
    "    tokenizer=tokenizer,\n",
    "    hmm=hmm,\n",
    "    random_actions=config[\"agent\"][\"random_actions\"],\n",
    "    policy_len=config[\"agent\"][\"policy_len\"],\n",
    "    reduce=config[\"agent\"][\"reduce\"],\n",
    "    gamma=config[\"agent\"][\"gamma\"],\n",
    "    preference_diffusion=config[\"agent\"][\"preference_diffusion\"],\n",
    ")\n",
    "hmm_agent.reset()"
   ]
  },
  {
   "cell_type": "code",
   "execution_count": 220,
   "metadata": {},
   "outputs": [
    {
     "data": {
      "image/png": "[encoded data removed]",
      "text/plain": [
       "<Figure size 800x1600 with 3 Axes>"
      ]
     },
     "metadata": {},
     "output_type": "display_data"
    }
   ],
   "source": [
    "t = generate_trajectory_end_state(hmm_agent)\n",
    "plot_trajectory(t, \"HMM Agent\")"
   ]
  },
  {
   "cell_type": "code",
   "execution_count": 184,
   "metadata": {},
   "outputs": [
    {
     "name": "stdout",
     "output_type": "stream",
     "text": [
      "<hippo.models.cscg.CHMM object at 0x7fe1df4e72d0>\n"
     ]
    }
   ],
   "source": [
    "from hippo.agents.clone_agent import CloneAgent\n",
    "\n",
    "agent_path = hmm_path / \"cscg_hippo.pkl\"\n",
    "tokenizer_path = hmm_path / \"tokenizer.pkl\"\n",
    "\n",
    "config = {\n",
    "    \"cscg_path\": str(agent_path),\n",
    "    \"tokenizer_path\": str(tokenizer_path),\n",
    "    \"agent\": {\n",
    "        \"reduce\": True,\n",
    "        \"gamma\": 0.5,\n",
    "        \"policy_len\": 5,\n",
    "        \"random_actions\": False,\n",
    "        \"preference_diffusion\": True,\n",
    "    },\n",
    "}\n",
    "\n",
    "tokenizer = load_object(config[\"tokenizer_path\"])\n",
    "\n",
    "fig, ax = plt.subplots(4, 5, figsize=(10, 8))\n",
    "for i, a in enumerate(ax.flatten()):\n",
    "    if i < len(tokenizer.codebook):\n",
    "        a.imshow(tokenizer.get_observation(i) / 255.0)\n",
    "        a.set_title(i)\n",
    "[a.axis(\"off\") for a in ax.flatten()]\n",
    "plt.savefig(store_path / \"observations.png\", bbox_inches=\"tight\")\n",
    "plt.close()\n",
    "\n",
    "cscg = load_object(config[\"cscg_path\"])\n",
    "print(cscg)\n",
    "\n",
    "agent = CloneAgent(\n",
    "    tokenizer=tokenizer,\n",
    "    cscg=cscg,\n",
    "    random_actions=config[\"agent\"][\"random_actions\"],\n",
    "    policy_len=config[\"agent\"][\"policy_len\"],\n",
    "    reduce=config[\"agent\"][\"reduce\"],\n",
    "    gamma=config[\"agent\"][\"gamma\"],\n",
    "    preference_diffusion=config[\"agent\"][\"preference_diffusion\"],\n",
    ")\n",
    "agent.reset()\n"
   ]
  },
  {
   "cell_type": "code",
   "execution_count": 221,
   "metadata": {},
   "outputs": [
    {
     "data": {
      "image/png": "[encoded data removed]",
      "text/plain": [
       "<Figure size 800x1600 with 3 Axes>"
      ]
     },
     "metadata": {},
     "output_type": "display_data"
    }
   ],
   "source": [
    "t = generate_trajectory_end_state(agent)\n",
    "plot_trajectory(t, \"CSCG Agent\")"
   ]
  },
  {
   "cell_type": "markdown",
   "metadata": {},
   "source": [
    "For statistics of success runs: \n",
    "look at `experiments/model-learning/evaluate_planning_and_inference_cscg.py` for cscg \n",
    "and `experiments/model_learning/evaluate_planning_and_inference_hmm.py` for the HMM. \n",
    "\n",
    "These generate the results summarized below: "
   ]
  },
  {
   "cell_type": "markdown",
   "metadata": {},
   "source": [
    "- CSCG: 192/192 from-to scenarios success\n",
    "- HMM: 23\n",
    "- HMM + Viterbi: 32/192      "
   ]
  }
 ],
 "metadata": {
  "kernelspec": {
   "display_name": "hippo",
   "language": "python",
   "name": "python3"
  },
  "language_info": {
   "codemirror_mode": {
    "name": "ipython",
    "version": 3
   },
   "file_extension": ".py",
   "mimetype": "text/x-python",
   "name": "python",
   "nbconvert_exporter": "python",
   "pygments_lexer": "ipython3",
   "version": "3.11.6"
  }
 },
 "nbformat": 4,
 "nbformat_minor": 2
}
