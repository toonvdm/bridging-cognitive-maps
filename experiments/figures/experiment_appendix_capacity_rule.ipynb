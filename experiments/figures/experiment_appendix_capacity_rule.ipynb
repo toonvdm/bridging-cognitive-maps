{
 "cells": [
  {
   "cell_type": "markdown",
   "metadata": {},
   "source": [
    "### Model capacity experiments. \n",
    "\n",
    "For this experiment, only the figures are collected in the data folder, but they can be recreated by running the following notebook. "
   ]
  },
  {
   "cell_type": "code",
   "execution_count": 1,
   "metadata": {},
   "outputs": [
    {
     "name": "stdout",
     "output_type": "stream",
     "text": [
      "pygame 2.5.2 (SDL 2.28.3, Python 3.11.6)\n",
      "Hello from the pygame community. https://www.pygame.org/contribute.html\n",
      "Interactive mode\n"
     ]
    }
   ],
   "source": [
    "%load_ext autoreload\n",
    "%autoreload 2"
   ]
  },
  {
   "cell_type": "code",
   "execution_count": null,
   "metadata": {},
   "outputs": [],
   "source": [
    "import pandas as pd\n",
    "import numpy as np\n",
    "import random\n",
    "\n",
    "from pathlib import Path\n",
    "import matplotlib.pyplot as plt\n",
    "\n",
    "import hippo\n",
    "from hippo import load_object, save_config, save_object \n",
    "from hippo.agents import HierarchicalAgent, load_hippo_agent\n",
    "from hippo.agents.prefrontal_agent import PrefrontalCSCGModel\n",
    "\n",
    "from hippo.environments.action_perception import action_perception_loop\n",
    "from hippo.environments.w_maze import get_wmaze, WmazeTasks\n",
    "from hippo.environments.high_level import generate_sequence\n",
    "\n",
    "\n",
    "def fit_and_save_model(\n",
    "    store_path,\n",
    "    cycle_rules_every=8000,\n",
    "    n_clones=10,\n",
    "    added_task_size=0,\n",
    "    n_rules=3,\n",
    "):\n",
    "    store_path.mkdir(exist_ok=True, parents=True)\n",
    "\n",
    "    config = {\n",
    "        \"n_clones\": n_clones,\n",
    "        \"seed\": 0,\n",
    "        \"sequence_length\": 8000,\n",
    "        \"cycle_rule_every\": cycle_rules_every,\n",
    "        \"p_optim\": 0.75,\n",
    "        \"n_rules\": n_rules,\n",
    "        \"added_task_size\": added_task_size,\n",
    "    }\n",
    "\n",
    "    np.random.seed(config[\"seed\"])\n",
    "    random.seed(config[\"seed\"])\n",
    "\n",
    "    states, actions = generate_sequence(\n",
    "        sequence_length=config[\"sequence_length\"],\n",
    "        p_optim=config[\"p_optim\"],\n",
    "        cycle_rule_every=config[\"cycle_rule_every\"],\n",
    "        added_task_size=config[\"added_task_size\"],\n",
    "        n_rules=config[\"n_rules\"],\n",
    "    )\n",
    "\n",
    "    n_obs = len(np.unique(states))\n",
    "    n_clones = config[\"n_clones\"] * np.ones(n_obs, dtype=np.int64)\n",
    "    cscg = fit_cscg(states, actions, n_clones)\n",
    "\n",
    "    save_object(actions, store_path / \"actions.pkl\")\n",
    "    save_object(states, store_path / \"states.pkl\")\n",
    "    save_object(\n",
    "        cscg,\n",
    "        store_path\n",
    "        / f\"nr:{n_rules}_nc:{n_clones[0]}_at:{added_task_size}_chmm_prefrontal_with_loc.pkl\",\n",
    "    )\n",
    "    save_config(\n",
    "        config,\n",
    "        store_path\n",
    "        / f\"nr:{n_rules}_nc:{n_clones[0]}_at:{added_task_size}_config_chmm_prefrontal_with_loc.yml\",\n",
    "    )\n",
    "\n",
    "\n",
    "def to_dataframe(logs, control_mode, agent_name, trial):\n",
    "    d_new = {\n",
    "        \"trial\": [trial for _ in range(len(logs[\"action\"]))],\n",
    "        \"agent_name\": [agent_name for _ in range(len(logs[\"action\"]))],\n",
    "        \"control_mode\": [control_mode for _ in range(len(logs[\"action\"]))],\n",
    "        \"time\": np.arange(len(logs[\"action\"])),\n",
    "        \"action\": logs[\"action\"],\n",
    "        \"reward\": 1.0 * logs[\"reward\"],\n",
    "        \"pos_x\": [pose[0] for pose in logs[\"pose\"]],\n",
    "        \"pos_y\": [pose[1] for pose in logs[\"pose\"]],\n",
    "        \"pos_dir\": [pose[2] for pose in logs[\"pose\"]],\n",
    "        \"rules\": logs[\"rules\"],\n",
    "        \"inbound\": logs[\"inbound\"],\n",
    "    }\n",
    "    return pd.DataFrame.from_dict(d_new)\n",
    "\n",
    "\n",
    "def run_experiment(\n",
    "    n_clones,\n",
    "    added_task_size,\n",
    "    store_path_,\n",
    "    n_rules_model=3,\n",
    "    n_trials=20,\n",
    "    n_steps=300,\n",
    "    switch_rule_every=300,\n",
    "    n_rules=3,\n",
    "):\n",
    "    \"\"\"\n",
    "    Runs the action control loop for an agent for multiple trials.\n",
    "    A control and disruption scenario is ran and the metrics are stored\n",
    "    unless the agent is random (does not use state to select action)\n",
    "    \"\"\"\n",
    "    model_hippo = load_hippo_agent()\n",
    "    model_hippo.use_epistemic = True\n",
    "\n",
    "    tag = f\"nr:{n_rules_model}_nc:{n_clones}_at:{added_task_size}\"\n",
    "    pf_cscg = load_object(store_path_ / f\"{tag}_chmm_prefrontal_with_loc.pkl\")\n",
    "    model_pf = PrefrontalCSCGModel(pf_cscg, with_location=True)\n",
    "\n",
    "    agent = HierarchicalAgent(\n",
    "        model_pf=model_pf,\n",
    "        model_hippo=model_hippo,\n",
    "        fe_threshold=-14.8,\n",
    "        name=f\"CSCG_{n_clones}\",\n",
    "    )\n",
    "\n",
    "    run_logs_df = pd.DataFrame()\n",
    "    for trial in range(n_trials):\n",
    "        np.random.seed(trial)\n",
    "        random.seed(trial)\n",
    "        control_key = \"control\"\n",
    "        run_logs = action_perception_loop(\n",
    "            get_wmaze(\n",
    "                task_mode=WmazeTasks.TASK0,\n",
    "                cycle_rules_every=switch_rule_every,\n",
    "                n_rules=n_rules,\n",
    "                cycle_rules_random=False,\n",
    "            ),\n",
    "            agent,\n",
    "            n_steps,\n",
    "            record_frames=False,\n",
    "            record_agent_info=True,\n",
    "            observable_reward=True,\n",
    "            callbacks=[],\n",
    "            observable_light=False,\n",
    "            progress_bar=True,\n",
    "        )\n",
    "\n",
    "        df = to_dataframe(run_logs, control_key, agent.name, trial)\n",
    "        run_logs_df = pd.concat([run_logs_df, df])\n",
    "\n",
    "    name = f\"{tag}.csv\"\n",
    "    print(store_path_ / name)\n",
    "    run_logs_df.to_csv(store_path_ / name)"
   ]
  },
  {
   "cell_type": "code",
   "execution_count": 2,
   "metadata": {},
   "outputs": [],
   "source": [
    "store_path = Path(hippo.__file__).parent.parent / \"data/results\"\n",
    "store_path /= \"experiment-appendix-capacity/runs\"\n",
    "\n",
    "store_path.mkdir(exist_ok=True, parents=True)\n",
    "\n",
    "n_clones_list = [1, 2, 4, 8, 16, 32]\n",
    "added_task_size_list = [0, 1, 2, 3]\n",
    "n_rules_list = [1, 2, 3, 4, 5, 6, 7]"
   ]
  },
  {
   "cell_type": "markdown",
   "metadata": {},
   "source": [
    "____\n",
    "\n",
    "Fit all the models with different conditions"
   ]
  },
  {
   "cell_type": "code",
   "execution_count": 3,
   "metadata": {},
   "outputs": [
    {
     "name": "stdout",
     "output_type": "stream",
     "text": [
      "Average number of clones: 1.0\n"
     ]
    },
    {
     "name": "stderr",
     "output_type": "stream",
     "text": [
      "  0%|          | 2/10000 [00:01<2:12:18,  1.26it/s, train_bps=0.224]\n",
      "  1%|          | 1/100 [00:00<01:19,  1.25it/s, train_bps=0.224]"
     ]
    },
    {
     "name": "stdout",
     "output_type": "stream",
     "text": [
      "Average number of clones: 1.0\n"
     ]
    },
    {
     "name": "stderr",
     "output_type": "stream",
     "text": [
      "\n",
      "  0%|          | 2/10000 [00:00<00:35, 283.33it/s, train_bps=0.403]\n",
      "  1%|          | 1/100 [00:00<00:01, 49.63it/s, train_bps=0.403]"
     ]
    },
    {
     "name": "stdout",
     "output_type": "stream",
     "text": [
      "Average number of clones: 2.0\n"
     ]
    },
    {
     "name": "stderr",
     "output_type": "stream",
     "text": [
      "\n",
      "  1%|          | 110/10000 [00:00<00:35, 281.03it/s, train_bps=0.0302]\n",
      "  2%|▏         | 2/100 [00:00<00:01, 65.48it/s, train_bps=0.0302]\n"
     ]
    },
    {
     "name": "stdout",
     "output_type": "stream",
     "text": [
      "Average number of clones: 2.0\n"
     ]
    },
    {
     "name": "stderr",
     "output_type": "stream",
     "text": [
      "  1%|          | 112/10000 [00:00<00:34, 285.76it/s, train_bps=0.298]\n",
      "  3%|▎         | 3/100 [00:00<00:01, 73.59it/s, train_bps=0.313]\n"
     ]
    },
    {
     "name": "stdout",
     "output_type": "stream",
     "text": [
      "Average number of clones: 4.0\n"
     ]
    },
    {
     "name": "stderr",
     "output_type": "stream",
     "text": [
      "  3%|▎         | 255/10000 [00:01<00:40, 242.19it/s, train_bps=0.000573]\n",
      "  2%|▏         | 2/100 [00:00<00:01, 61.42it/s, train_bps=0.000573]\n"
     ]
    },
    {
     "name": "stdout",
     "output_type": "stream",
     "text": [
      "Average number of clones: 4.0\n"
     ]
    },
    {
     "name": "stderr",
     "output_type": "stream",
     "text": [
      "  2%|▏         | 215/10000 [00:00<00:40, 243.96it/s, train_bps=0.14]\n",
      "  7%|▋         | 7/100 [00:00<00:01, 79.65it/s, train_bps=0.19]\n"
     ]
    },
    {
     "name": "stdout",
     "output_type": "stream",
     "text": [
      "Average number of clones: 8.0\n"
     ]
    },
    {
     "name": "stderr",
     "output_type": "stream",
     "text": [
      "  2%|▏         | 209/10000 [00:01<00:52, 186.29it/s, train_bps=0.000501]\n",
      "  2%|▏         | 2/100 [00:00<00:01, 54.73it/s, train_bps=0.0127]\n"
     ]
    },
    {
     "name": "stdout",
     "output_type": "stream",
     "text": [
      "Average number of clones: 8.0\n"
     ]
    },
    {
     "name": "stderr",
     "output_type": "stream",
     "text": [
      " 23%|██▎       | 2306/10000 [00:12<00:40, 190.84it/s, train_bps=0.023] \n",
      "  3%|▎         | 3/100 [00:00<00:01, 53.72it/s, train_bps=0.0268]\n"
     ]
    },
    {
     "name": "stdout",
     "output_type": "stream",
     "text": [
      "Average number of clones: 16.0\n"
     ]
    },
    {
     "name": "stderr",
     "output_type": "stream",
     "text": [
      "  3%|▎         | 284/10000 [00:02<01:39, 97.47it/s, train_bps=0.000533] \n",
      "  3%|▎         | 3/100 [00:00<00:01, 49.02it/s, train_bps=0.0503]\n"
     ]
    },
    {
     "name": "stdout",
     "output_type": "stream",
     "text": [
      "Average number of clones: 16.0\n"
     ]
    },
    {
     "name": "stderr",
     "output_type": "stream",
     "text": [
      " 21%|██▏       | 2125/10000 [00:21<01:18, 99.78it/s, train_bps=0.00648] \n",
      "  3%|▎         | 3/100 [00:00<00:01, 48.92it/s, train_bps=0.0157]"
     ]
    },
    {
     "name": "stdout",
     "output_type": "stream",
     "text": [
      "Average number of clones: 32.0\n"
     ]
    },
    {
     "name": "stderr",
     "output_type": "stream",
     "text": [
      "\n",
      "  3%|▎         | 276/10000 [00:08<04:43, 34.27it/s, train_bps=0.000516]\n",
      "  3%|▎         | 3/100 [00:00<00:03, 32.11it/s, train_bps=0.142]"
     ]
    },
    {
     "name": "stdout",
     "output_type": "stream",
     "text": [
      "Average number of clones: 32.0\n"
     ]
    },
    {
     "name": "stderr",
     "output_type": "stream",
     "text": [
      "\n",
      " 21%|██▏       | 2127/10000 [01:01<03:48, 34.52it/s, train_bps=0.00464]\n",
      "  3%|▎         | 3/100 [00:00<00:03, 32.27it/s, train_bps=0.00972]\n"
     ]
    }
   ],
   "source": [
    "for n_clones in n_clones_list:\n",
    "    fit_and_save_model(\n",
    "        store_path / \"clones_single_rule\", \n",
    "        n_clones=n_clones, \n",
    "        n_rules=1,\n",
    "        added_task_size=0,\n",
    "        cycle_rules_every=8000,\n",
    "    )\n",
    "    fit_and_save_model(\n",
    "        store_path / \"clones_multiple_rule\", \n",
    "        n_clones=n_clones, \n",
    "        n_rules=3, \n",
    "        cycle_rules_every=1000,\n",
    "        added_task_size=0,\n",
    "    )"
   ]
  },
  {
   "cell_type": "code",
   "execution_count": 4,
   "metadata": {},
   "outputs": [
    {
     "name": "stdout",
     "output_type": "stream",
     "text": [
      "Average number of clones: 10.0\n"
     ]
    },
    {
     "name": "stderr",
     "output_type": "stream",
     "text": [
      "  2%|▏         | 235/10000 [00:01<01:01, 157.56it/s, train_bps=0.000541]\n",
      "  3%|▎         | 3/100 [00:00<00:01, 57.31it/s, train_bps=0.00311]\n"
     ]
    },
    {
     "name": "stdout",
     "output_type": "stream",
     "text": [
      "Average number of clones: 32.0\n"
     ]
    },
    {
     "name": "stderr",
     "output_type": "stream",
     "text": [
      " 29%|██▉       | 2936/10000 [01:24<03:22, 34.80it/s, train_bps=0.0214]\n",
      "  3%|▎         | 3/100 [00:00<00:02, 32.57it/s, train_bps=0.0391]"
     ]
    },
    {
     "name": "stdout",
     "output_type": "stream",
     "text": [
      "Average number of clones: 10.0\n"
     ]
    },
    {
     "name": "stderr",
     "output_type": "stream",
     "text": [
      "\n",
      "  2%|▏         | 204/10000 [00:01<00:59, 163.68it/s, train_bps=0.000489]\n",
      "  3%|▎         | 3/100 [00:00<00:01, 58.38it/s, train_bps=0.0025]\n"
     ]
    },
    {
     "name": "stdout",
     "output_type": "stream",
     "text": [
      "Average number of clones: 32.0\n"
     ]
    },
    {
     "name": "stderr",
     "output_type": "stream",
     "text": [
      " 30%|██▉       | 2969/10000 [01:25<03:23, 34.59it/s, train_bps=0.0196]\n",
      "  4%|▍         | 4/100 [00:00<00:02, 34.88it/s, train_bps=0.0302]"
     ]
    },
    {
     "name": "stdout",
     "output_type": "stream",
     "text": [
      "Average number of clones: 10.0\n"
     ]
    },
    {
     "name": "stderr",
     "output_type": "stream",
     "text": [
      "\n",
      "  3%|▎         | 298/10000 [00:01<01:00, 159.57it/s, train_bps=0.000542]\n",
      "  3%|▎         | 3/100 [00:00<00:01, 59.33it/s, train_bps=0.0529]\n"
     ]
    },
    {
     "name": "stdout",
     "output_type": "stream",
     "text": [
      "Average number of clones: 32.0\n"
     ]
    },
    {
     "name": "stderr",
     "output_type": "stream",
     "text": [
      " 45%|████▍     | 4458/10000 [02:06<02:37, 35.19it/s, train_bps=0.0274]\n",
      "  4%|▍         | 4/100 [00:00<00:02, 34.37it/s, train_bps=0.0457]"
     ]
    },
    {
     "name": "stdout",
     "output_type": "stream",
     "text": [
      "Average number of clones: 10.0\n"
     ]
    },
    {
     "name": "stderr",
     "output_type": "stream",
     "text": [
      "\n",
      "  3%|▎         | 288/10000 [00:01<00:59, 162.29it/s, train_bps=0.000449]\n",
      "  3%|▎         | 3/100 [00:00<00:01, 58.90it/s, train_bps=0.00126]\n"
     ]
    },
    {
     "name": "stdout",
     "output_type": "stream",
     "text": [
      "Average number of clones: 32.0\n"
     ]
    },
    {
     "name": "stderr",
     "output_type": "stream",
     "text": [
      " 38%|███▊      | 3775/10000 [01:47<02:57, 35.14it/s, train_bps=0.0293]\n",
      "  3%|▎         | 3/100 [00:00<00:02, 32.52it/s, train_bps=0.0514]\n"
     ]
    }
   ],
   "source": [
    "for added_task_size in added_task_size_list:\n",
    "    fit_and_save_model(\n",
    "        n_clones=10,\n",
    "        store_path=store_path / \"rule_length_single_rule\", \n",
    "        added_task_size=added_task_size,\n",
    "        n_rules=1,\n",
    "        cycle_rules_every=8000\n",
    "    )\n",
    "\n",
    "    fit_and_save_model(\n",
    "        n_clones=32,\n",
    "        store_path=store_path / \"rule_length_multiple_rule\", \n",
    "        added_task_size=added_task_size,\n",
    "        n_rules=3,\n",
    "        cycle_rules_every=150\n",
    "    )"
   ]
  },
  {
   "cell_type": "code",
   "execution_count": 5,
   "metadata": {},
   "outputs": [
    {
     "name": "stdout",
     "output_type": "stream",
     "text": [
      "Average number of clones: 32.0\n"
     ]
    },
    {
     "name": "stderr",
     "output_type": "stream",
     "text": [
      " 52%|█████▏    | 5225/10000 [02:30<02:17, 34.72it/s, train_bps=0.00514]\n",
      "  5%|▌         | 5/100 [00:00<00:02, 35.75it/s, train_bps=0.0252]\n"
     ]
    },
    {
     "name": "stdout",
     "output_type": "stream",
     "text": [
      "Average number of clones: 32.0\n"
     ]
    },
    {
     "name": "stderr",
     "output_type": "stream",
     "text": [
      " 22%|██▏       | 2191/10000 [01:03<03:45, 34.57it/s, train_bps=0.0224]\n",
      "  5%|▌         | 5/100 [00:00<00:02, 34.82it/s, train_bps=0.0444]"
     ]
    },
    {
     "name": "stdout",
     "output_type": "stream",
     "text": [
      "Average number of clones: 32.0\n"
     ]
    },
    {
     "name": "stderr",
     "output_type": "stream",
     "text": [
      "\n",
      " 29%|██▉       | 2936/10000 [01:25<03:24, 34.51it/s, train_bps=0.0214]\n",
      "  3%|▎         | 3/100 [00:00<00:03, 32.29it/s, train_bps=0.0391]"
     ]
    },
    {
     "name": "stdout",
     "output_type": "stream",
     "text": [
      "Average number of clones: 32.0\n"
     ]
    },
    {
     "name": "stderr",
     "output_type": "stream",
     "text": [
      "\n",
      " 15%|█▌        | 1518/10000 [00:43<04:04, 34.66it/s, train_bps=0.0217]\n",
      "  3%|▎         | 3/100 [00:00<00:03, 31.94it/s, train_bps=0.0468]"
     ]
    },
    {
     "name": "stdout",
     "output_type": "stream",
     "text": [
      "Average number of clones: 32.0\n"
     ]
    },
    {
     "name": "stderr",
     "output_type": "stream",
     "text": [
      "\n",
      " 27%|██▋       | 2726/10000 [01:18<03:29, 34.67it/s, train_bps=0.0218]\n",
      "  3%|▎         | 3/100 [00:00<00:02, 32.71it/s, train_bps=0.031]"
     ]
    },
    {
     "name": "stdout",
     "output_type": "stream",
     "text": [
      "Average number of clones: 32.0\n"
     ]
    },
    {
     "name": "stderr",
     "output_type": "stream",
     "text": [
      "\n",
      " 26%|██▋       | 2634/10000 [01:15<03:31, 34.82it/s, train_bps=0.0255]\n",
      "  4%|▍         | 4/100 [00:00<00:02, 33.78it/s, train_bps=0.0366]"
     ]
    },
    {
     "name": "stdout",
     "output_type": "stream",
     "text": [
      "Average number of clones: 32.0\n"
     ]
    },
    {
     "name": "stderr",
     "output_type": "stream",
     "text": [
      "\n",
      " 19%|█▉        | 1926/10000 [00:55<03:52, 34.80it/s, train_bps=0.0223]\n",
      "  5%|▌         | 5/100 [00:00<00:02, 36.16it/s, train_bps=0.0382]\n"
     ]
    }
   ],
   "source": [
    "for n_rules in n_rules_list: \n",
    "    fit_and_save_model(\n",
    "        store_path / \"n_rules_multiple\", \n",
    "        n_clones=32,\n",
    "        added_task_size=0, \n",
    "        n_rules=n_rules, \n",
    "        cycle_rules_every=150\n",
    "    )"
   ]
  },
  {
   "cell_type": "markdown",
   "metadata": {},
   "source": [
    "____ \n",
    "\n",
    "\n",
    "\n",
    "Run experiments and visualize performance"
   ]
  },
  {
   "cell_type": "code",
   "execution_count": 6,
   "metadata": {},
   "outputs": [],
   "source": [
    "n_trials = 5\n",
    "n_steps = 900 \n",
    "rule_switch_at = 150 "
   ]
  },
  {
   "cell_type": "code",
   "execution_count": 7,
   "metadata": {},
   "outputs": [
    {
     "name": "stdout",
     "output_type": "stream",
     "text": [
      "Running for  1  1 Rule\n"
     ]
    },
    {
     "name": "stderr",
     "output_type": "stream",
     "text": [
      "/Users/toon.vandemaele/.pyenv/versions/3.11.6/envs/hippo/lib/python3.11/site-packages/gymnasium/core.py:311: UserWarning: \u001b[33mWARN: env.get_frame to get variables from other wrappers is deprecated and will be removed in v1.0, to get this variable you can do `env.unwrapped.get_frame` for environment variables or `env.get_wrapper_attr('get_frame')` that will search the reminding wrappers.\u001b[0m\n",
      "  logger.warn(\n"
     ]
    },
    {
     "data": {
      "application/vnd.jupyter.widget-view+json": {
       "model_id": "f7b93438a348482faeae47e66c97a3db",
       "version_major": 2,
       "version_minor": 0
      },
      "text/plain": [
       "  0%|          | 0/900 [00:00<?, ?it/s]"
      ]
     },
     "metadata": {},
     "output_type": "display_data"
    },
    {
     "data": {
      "application/vnd.jupyter.widget-view+json": {
       "model_id": "21ae10b47c6b46b7a344b655f351f089",
       "version_major": 2,
       "version_minor": 0
      },
      "text/plain": [
       "  0%|          | 0/900 [00:00<?, ?it/s]"
      ]
     },
     "metadata": {},
     "output_type": "display_data"
    },
    {
     "data": {
      "application/vnd.jupyter.widget-view+json": {
       "model_id": "0de4d921022c438cb5bfaa6746b147ae",
       "version_major": 2,
       "version_minor": 0
      },
      "text/plain": [
       "  0%|          | 0/900 [00:00<?, ?it/s]"
      ]
     },
     "metadata": {},
     "output_type": "display_data"
    },
    {
     "data": {
      "application/vnd.jupyter.widget-view+json": {
       "model_id": "1c5b87a1186c40e78adb8ddb2526bb2f",
       "version_major": 2,
       "version_minor": 0
      },
      "text/plain": [
       "  0%|          | 0/900 [00:00<?, ?it/s]"
      ]
     },
     "metadata": {},
     "output_type": "display_data"
    },
    {
     "data": {
      "application/vnd.jupyter.widget-view+json": {
       "model_id": "7d721dd5dc4e499b96964e4b318c780e",
       "version_major": 2,
       "version_minor": 0
      },
      "text/plain": [
       "  0%|          | 0/900 [00:00<?, ?it/s]"
      ]
     },
     "metadata": {},
     "output_type": "display_data"
    },
    {
     "name": "stdout",
     "output_type": "stream",
     "text": [
      "/Users/toon.vandemaele/Projects/hippocampus-models/data/paper-results/experiment-appendix-capacity/runs/clones_single_rule/nr:1_nc:1_at:0.csv\n",
      "Running for  1  3 Rules\n"
     ]
    },
    {
     "name": "stderr",
     "output_type": "stream",
     "text": [
      "/Users/toon.vandemaele/.pyenv/versions/3.11.6/envs/hippo/lib/python3.11/site-packages/gymnasium/core.py:311: UserWarning: \u001b[33mWARN: env.get_frame to get variables from other wrappers is deprecated and will be removed in v1.0, to get this variable you can do `env.unwrapped.get_frame` for environment variables or `env.get_wrapper_attr('get_frame')` that will search the reminding wrappers.\u001b[0m\n",
      "  logger.warn(\n"
     ]
    },
    {
     "data": {
      "application/vnd.jupyter.widget-view+json": {
       "model_id": "61bea6291c5a45ceaa58fb556c1c5973",
       "version_major": 2,
       "version_minor": 0
      },
      "text/plain": [
       "  0%|          | 0/900 [00:00<?, ?it/s]"
      ]
     },
     "metadata": {},
     "output_type": "display_data"
    },
    {
     "data": {
      "application/vnd.jupyter.widget-view+json": {
       "model_id": "96ad6fc5b7bc423a9856759f6ecc554b",
       "version_major": 2,
       "version_minor": 0
      },
      "text/plain": [
       "  0%|          | 0/900 [00:00<?, ?it/s]"
      ]
     },
     "metadata": {},
     "output_type": "display_data"
    },
    {
     "data": {
      "application/vnd.jupyter.widget-view+json": {
       "model_id": "75f531897eca494ea84b47d811c349b7",
       "version_major": 2,
       "version_minor": 0
      },
      "text/plain": [
       "  0%|          | 0/900 [00:00<?, ?it/s]"
      ]
     },
     "metadata": {},
     "output_type": "display_data"
    },
    {
     "data": {
      "application/vnd.jupyter.widget-view+json": {
       "model_id": "7c256ca0eba64b559283845f4e341a5b",
       "version_major": 2,
       "version_minor": 0
      },
      "text/plain": [
       "  0%|          | 0/900 [00:00<?, ?it/s]"
      ]
     },
     "metadata": {},
     "output_type": "display_data"
    },
    {
     "data": {
      "application/vnd.jupyter.widget-view+json": {
       "model_id": "46f6fc2c2f46424bbdd8f37e3d54e1d4",
       "version_major": 2,
       "version_minor": 0
      },
      "text/plain": [
       "  0%|          | 0/900 [00:00<?, ?it/s]"
      ]
     },
     "metadata": {},
     "output_type": "display_data"
    },
    {
     "name": "stdout",
     "output_type": "stream",
     "text": [
      "/Users/toon.vandemaele/Projects/hippocampus-models/data/paper-results/experiment-appendix-capacity/runs/clones_multiple_rule/nr:3_nc:1_at:0.csv\n",
      "Running for  2  1 Rule\n"
     ]
    },
    {
     "name": "stderr",
     "output_type": "stream",
     "text": [
      "/Users/toon.vandemaele/.pyenv/versions/3.11.6/envs/hippo/lib/python3.11/site-packages/gymnasium/core.py:311: UserWarning: \u001b[33mWARN: env.get_frame to get variables from other wrappers is deprecated and will be removed in v1.0, to get this variable you can do `env.unwrapped.get_frame` for environment variables or `env.get_wrapper_attr('get_frame')` that will search the reminding wrappers.\u001b[0m\n",
      "  logger.warn(\n"
     ]
    },
    {
     "data": {
      "application/vnd.jupyter.widget-view+json": {
       "model_id": "699acbbcdfc04eb3a55c55fea96a98a4",
       "version_major": 2,
       "version_minor": 0
      },
      "text/plain": [
       "  0%|          | 0/900 [00:00<?, ?it/s]"
      ]
     },
     "metadata": {},
     "output_type": "display_data"
    },
    {
     "data": {
      "application/vnd.jupyter.widget-view+json": {
       "model_id": "6a6920a581ec4adf90ebc19149785cf9",
       "version_major": 2,
       "version_minor": 0
      },
      "text/plain": [
       "  0%|          | 0/900 [00:00<?, ?it/s]"
      ]
     },
     "metadata": {},
     "output_type": "display_data"
    },
    {
     "data": {
      "application/vnd.jupyter.widget-view+json": {
       "model_id": "a7a7f2a68a3b4365912eb1213ba8b7d7",
       "version_major": 2,
       "version_minor": 0
      },
      "text/plain": [
       "  0%|          | 0/900 [00:00<?, ?it/s]"
      ]
     },
     "metadata": {},
     "output_type": "display_data"
    },
    {
     "data": {
      "application/vnd.jupyter.widget-view+json": {
       "model_id": "8f71d5a395774bc8a3d46f32318b6640",
       "version_major": 2,
       "version_minor": 0
      },
      "text/plain": [
       "  0%|          | 0/900 [00:00<?, ?it/s]"
      ]
     },
     "metadata": {},
     "output_type": "display_data"
    },
    {
     "data": {
      "application/vnd.jupyter.widget-view+json": {
       "model_id": "fd4a9b839e5240ae93db4fb21b0148ca",
       "version_major": 2,
       "version_minor": 0
      },
      "text/plain": [
       "  0%|          | 0/900 [00:00<?, ?it/s]"
      ]
     },
     "metadata": {},
     "output_type": "display_data"
    },
    {
     "name": "stdout",
     "output_type": "stream",
     "text": [
      "/Users/toon.vandemaele/Projects/hippocampus-models/data/paper-results/experiment-appendix-capacity/runs/clones_single_rule/nr:1_nc:2_at:0.csv\n",
      "Running for  2  3 Rules\n"
     ]
    },
    {
     "name": "stderr",
     "output_type": "stream",
     "text": [
      "/Users/toon.vandemaele/.pyenv/versions/3.11.6/envs/hippo/lib/python3.11/site-packages/gymnasium/core.py:311: UserWarning: \u001b[33mWARN: env.get_frame to get variables from other wrappers is deprecated and will be removed in v1.0, to get this variable you can do `env.unwrapped.get_frame` for environment variables or `env.get_wrapper_attr('get_frame')` that will search the reminding wrappers.\u001b[0m\n",
      "  logger.warn(\n"
     ]
    },
    {
     "data": {
      "application/vnd.jupyter.widget-view+json": {
       "model_id": "ec46d540ff684b7fabd66d749a8f9fcb",
       "version_major": 2,
       "version_minor": 0
      },
      "text/plain": [
       "  0%|          | 0/900 [00:00<?, ?it/s]"
      ]
     },
     "metadata": {},
     "output_type": "display_data"
    },
    {
     "data": {
      "application/vnd.jupyter.widget-view+json": {
       "model_id": "de04ff24969f4b45b2acfad308b37ed9",
       "version_major": 2,
       "version_minor": 0
      },
      "text/plain": [
       "  0%|          | 0/900 [00:00<?, ?it/s]"
      ]
     },
     "metadata": {},
     "output_type": "display_data"
    },
    {
     "data": {
      "application/vnd.jupyter.widget-view+json": {
       "model_id": "ad5ec84926574e96bb8fb3d62834fae3",
       "version_major": 2,
       "version_minor": 0
      },
      "text/plain": [
       "  0%|          | 0/900 [00:00<?, ?it/s]"
      ]
     },
     "metadata": {},
     "output_type": "display_data"
    },
    {
     "data": {
      "application/vnd.jupyter.widget-view+json": {
       "model_id": "62a108d30d6742d1921b64121d5cab95",
       "version_major": 2,
       "version_minor": 0
      },
      "text/plain": [
       "  0%|          | 0/900 [00:00<?, ?it/s]"
      ]
     },
     "metadata": {},
     "output_type": "display_data"
    },
    {
     "data": {
      "application/vnd.jupyter.widget-view+json": {
       "model_id": "295c44874d564d08bbb1ec7a3e1374fa",
       "version_major": 2,
       "version_minor": 0
      },
      "text/plain": [
       "  0%|          | 0/900 [00:00<?, ?it/s]"
      ]
     },
     "metadata": {},
     "output_type": "display_data"
    },
    {
     "name": "stdout",
     "output_type": "stream",
     "text": [
      "/Users/toon.vandemaele/Projects/hippocampus-models/data/paper-results/experiment-appendix-capacity/runs/clones_multiple_rule/nr:3_nc:2_at:0.csv\n",
      "Running for  4  1 Rule\n"
     ]
    },
    {
     "name": "stderr",
     "output_type": "stream",
     "text": [
      "/Users/toon.vandemaele/.pyenv/versions/3.11.6/envs/hippo/lib/python3.11/site-packages/gymnasium/core.py:311: UserWarning: \u001b[33mWARN: env.get_frame to get variables from other wrappers is deprecated and will be removed in v1.0, to get this variable you can do `env.unwrapped.get_frame` for environment variables or `env.get_wrapper_attr('get_frame')` that will search the reminding wrappers.\u001b[0m\n",
      "  logger.warn(\n"
     ]
    },
    {
     "data": {
      "application/vnd.jupyter.widget-view+json": {
       "model_id": "15f90888ac7347fdb9804f678f9e511d",
       "version_major": 2,
       "version_minor": 0
      },
      "text/plain": [
       "  0%|          | 0/900 [00:00<?, ?it/s]"
      ]
     },
     "metadata": {},
     "output_type": "display_data"
    },
    {
     "data": {
      "application/vnd.jupyter.widget-view+json": {
       "model_id": "664b756f759c4c1da11fa2b4e350dd8c",
       "version_major": 2,
       "version_minor": 0
      },
      "text/plain": [
       "  0%|          | 0/900 [00:00<?, ?it/s]"
      ]
     },
     "metadata": {},
     "output_type": "display_data"
    },
    {
     "data": {
      "application/vnd.jupyter.widget-view+json": {
       "model_id": "9b91e79580f1426cbc68e085b95d2394",
       "version_major": 2,
       "version_minor": 0
      },
      "text/plain": [
       "  0%|          | 0/900 [00:00<?, ?it/s]"
      ]
     },
     "metadata": {},
     "output_type": "display_data"
    },
    {
     "data": {
      "application/vnd.jupyter.widget-view+json": {
       "model_id": "a8dd184697f34151a7720dadeccf8970",
       "version_major": 2,
       "version_minor": 0
      },
      "text/plain": [
       "  0%|          | 0/900 [00:00<?, ?it/s]"
      ]
     },
     "metadata": {},
     "output_type": "display_data"
    },
    {
     "data": {
      "application/vnd.jupyter.widget-view+json": {
       "model_id": "7ae964d9ee234470bbdad390d42e05fc",
       "version_major": 2,
       "version_minor": 0
      },
      "text/plain": [
       "  0%|          | 0/900 [00:00<?, ?it/s]"
      ]
     },
     "metadata": {},
     "output_type": "display_data"
    },
    {
     "name": "stdout",
     "output_type": "stream",
     "text": [
      "/Users/toon.vandemaele/Projects/hippocampus-models/data/paper-results/experiment-appendix-capacity/runs/clones_single_rule/nr:1_nc:4_at:0.csv\n",
      "Running for  4  3 Rules\n"
     ]
    },
    {
     "name": "stderr",
     "output_type": "stream",
     "text": [
      "/Users/toon.vandemaele/.pyenv/versions/3.11.6/envs/hippo/lib/python3.11/site-packages/gymnasium/core.py:311: UserWarning: \u001b[33mWARN: env.get_frame to get variables from other wrappers is deprecated and will be removed in v1.0, to get this variable you can do `env.unwrapped.get_frame` for environment variables or `env.get_wrapper_attr('get_frame')` that will search the reminding wrappers.\u001b[0m\n",
      "  logger.warn(\n"
     ]
    },
    {
     "data": {
      "application/vnd.jupyter.widget-view+json": {
       "model_id": "17c664fc95d140458535cc071a4e6fce",
       "version_major": 2,
       "version_minor": 0
      },
      "text/plain": [
       "  0%|          | 0/900 [00:00<?, ?it/s]"
      ]
     },
     "metadata": {},
     "output_type": "display_data"
    },
    {
     "data": {
      "application/vnd.jupyter.widget-view+json": {
       "model_id": "668b45c5c29344d8931743c7d895a30c",
       "version_major": 2,
       "version_minor": 0
      },
      "text/plain": [
       "  0%|          | 0/900 [00:00<?, ?it/s]"
      ]
     },
     "metadata": {},
     "output_type": "display_data"
    },
    {
     "data": {
      "application/vnd.jupyter.widget-view+json": {
       "model_id": "f0aaff96e7d54b888d4617146d9af23d",
       "version_major": 2,
       "version_minor": 0
      },
      "text/plain": [
       "  0%|          | 0/900 [00:00<?, ?it/s]"
      ]
     },
     "metadata": {},
     "output_type": "display_data"
    },
    {
     "data": {
      "application/vnd.jupyter.widget-view+json": {
       "model_id": "b51aac8e9aa04d53ab0759b9c2f37858",
       "version_major": 2,
       "version_minor": 0
      },
      "text/plain": [
       "  0%|          | 0/900 [00:00<?, ?it/s]"
      ]
     },
     "metadata": {},
     "output_type": "display_data"
    },
    {
     "data": {
      "application/vnd.jupyter.widget-view+json": {
       "model_id": "63b20bf2350a4da48197eaac3e39ba5c",
       "version_major": 2,
       "version_minor": 0
      },
      "text/plain": [
       "  0%|          | 0/900 [00:00<?, ?it/s]"
      ]
     },
     "metadata": {},
     "output_type": "display_data"
    },
    {
     "name": "stdout",
     "output_type": "stream",
     "text": [
      "/Users/toon.vandemaele/Projects/hippocampus-models/data/paper-results/experiment-appendix-capacity/runs/clones_multiple_rule/nr:3_nc:4_at:0.csv\n",
      "Running for  8  1 Rule\n"
     ]
    },
    {
     "name": "stderr",
     "output_type": "stream",
     "text": [
      "/Users/toon.vandemaele/.pyenv/versions/3.11.6/envs/hippo/lib/python3.11/site-packages/gymnasium/core.py:311: UserWarning: \u001b[33mWARN: env.get_frame to get variables from other wrappers is deprecated and will be removed in v1.0, to get this variable you can do `env.unwrapped.get_frame` for environment variables or `env.get_wrapper_attr('get_frame')` that will search the reminding wrappers.\u001b[0m\n",
      "  logger.warn(\n"
     ]
    },
    {
     "data": {
      "application/vnd.jupyter.widget-view+json": {
       "model_id": "e6aa99385a90479cb53aeb1c702664b9",
       "version_major": 2,
       "version_minor": 0
      },
      "text/plain": [
       "  0%|          | 0/900 [00:00<?, ?it/s]"
      ]
     },
     "metadata": {},
     "output_type": "display_data"
    },
    {
     "data": {
      "application/vnd.jupyter.widget-view+json": {
       "model_id": "99f171fba19a4858bec41d66a0f7f829",
       "version_major": 2,
       "version_minor": 0
      },
      "text/plain": [
       "  0%|          | 0/900 [00:00<?, ?it/s]"
      ]
     },
     "metadata": {},
     "output_type": "display_data"
    },
    {
     "data": {
      "application/vnd.jupyter.widget-view+json": {
       "model_id": "3fa6cff2683a4e22959d54aca9ed9be1",
       "version_major": 2,
       "version_minor": 0
      },
      "text/plain": [
       "  0%|          | 0/900 [00:00<?, ?it/s]"
      ]
     },
     "metadata": {},
     "output_type": "display_data"
    },
    {
     "data": {
      "application/vnd.jupyter.widget-view+json": {
       "model_id": "04b92feb04374bcea20239fb45779b10",
       "version_major": 2,
       "version_minor": 0
      },
      "text/plain": [
       "  0%|          | 0/900 [00:00<?, ?it/s]"
      ]
     },
     "metadata": {},
     "output_type": "display_data"
    },
    {
     "data": {
      "application/vnd.jupyter.widget-view+json": {
       "model_id": "34db3573469d4bb88a21efeb6dbc3b81",
       "version_major": 2,
       "version_minor": 0
      },
      "text/plain": [
       "  0%|          | 0/900 [00:00<?, ?it/s]"
      ]
     },
     "metadata": {},
     "output_type": "display_data"
    },
    {
     "name": "stdout",
     "output_type": "stream",
     "text": [
      "/Users/toon.vandemaele/Projects/hippocampus-models/data/paper-results/experiment-appendix-capacity/runs/clones_single_rule/nr:1_nc:8_at:0.csv\n",
      "Running for  8  3 Rules\n"
     ]
    },
    {
     "name": "stderr",
     "output_type": "stream",
     "text": [
      "/Users/toon.vandemaele/.pyenv/versions/3.11.6/envs/hippo/lib/python3.11/site-packages/gymnasium/core.py:311: UserWarning: \u001b[33mWARN: env.get_frame to get variables from other wrappers is deprecated and will be removed in v1.0, to get this variable you can do `env.unwrapped.get_frame` for environment variables or `env.get_wrapper_attr('get_frame')` that will search the reminding wrappers.\u001b[0m\n",
      "  logger.warn(\n"
     ]
    },
    {
     "data": {
      "application/vnd.jupyter.widget-view+json": {
       "model_id": "add4a387ff3341c58e74de92490d2470",
       "version_major": 2,
       "version_minor": 0
      },
      "text/plain": [
       "  0%|          | 0/900 [00:00<?, ?it/s]"
      ]
     },
     "metadata": {},
     "output_type": "display_data"
    },
    {
     "data": {
      "application/vnd.jupyter.widget-view+json": {
       "model_id": "0e12d3922f604e00bc57ddaeead13d62",
       "version_major": 2,
       "version_minor": 0
      },
      "text/plain": [
       "  0%|          | 0/900 [00:00<?, ?it/s]"
      ]
     },
     "metadata": {},
     "output_type": "display_data"
    },
    {
     "data": {
      "application/vnd.jupyter.widget-view+json": {
       "model_id": "95963312eae542eb95a6173ac901d534",
       "version_major": 2,
       "version_minor": 0
      },
      "text/plain": [
       "  0%|          | 0/900 [00:00<?, ?it/s]"
      ]
     },
     "metadata": {},
     "output_type": "display_data"
    },
    {
     "data": {
      "application/vnd.jupyter.widget-view+json": {
       "model_id": "ecbdbb350613496a9550b353d22db554",
       "version_major": 2,
       "version_minor": 0
      },
      "text/plain": [
       "  0%|          | 0/900 [00:00<?, ?it/s]"
      ]
     },
     "metadata": {},
     "output_type": "display_data"
    },
    {
     "data": {
      "application/vnd.jupyter.widget-view+json": {
       "model_id": "29cd26ba8b8d4d33a21441827f24d9b7",
       "version_major": 2,
       "version_minor": 0
      },
      "text/plain": [
       "  0%|          | 0/900 [00:00<?, ?it/s]"
      ]
     },
     "metadata": {},
     "output_type": "display_data"
    },
    {
     "name": "stdout",
     "output_type": "stream",
     "text": [
      "/Users/toon.vandemaele/Projects/hippocampus-models/data/paper-results/experiment-appendix-capacity/runs/clones_multiple_rule/nr:3_nc:8_at:0.csv\n",
      "Running for  16  1 Rule\n"
     ]
    },
    {
     "name": "stderr",
     "output_type": "stream",
     "text": [
      "/Users/toon.vandemaele/.pyenv/versions/3.11.6/envs/hippo/lib/python3.11/site-packages/gymnasium/core.py:311: UserWarning: \u001b[33mWARN: env.get_frame to get variables from other wrappers is deprecated and will be removed in v1.0, to get this variable you can do `env.unwrapped.get_frame` for environment variables or `env.get_wrapper_attr('get_frame')` that will search the reminding wrappers.\u001b[0m\n",
      "  logger.warn(\n"
     ]
    },
    {
     "data": {
      "application/vnd.jupyter.widget-view+json": {
       "model_id": "af3b18c8e04541adb54c6b52207031e1",
       "version_major": 2,
       "version_minor": 0
      },
      "text/plain": [
       "  0%|          | 0/900 [00:00<?, ?it/s]"
      ]
     },
     "metadata": {},
     "output_type": "display_data"
    },
    {
     "data": {
      "application/vnd.jupyter.widget-view+json": {
       "model_id": "69247b10ee984ab7a2f3f27e4a3eb98b",
       "version_major": 2,
       "version_minor": 0
      },
      "text/plain": [
       "  0%|          | 0/900 [00:00<?, ?it/s]"
      ]
     },
     "metadata": {},
     "output_type": "display_data"
    },
    {
     "data": {
      "application/vnd.jupyter.widget-view+json": {
       "model_id": "447b679701fb452ebe749b60ce77b67b",
       "version_major": 2,
       "version_minor": 0
      },
      "text/plain": [
       "  0%|          | 0/900 [00:00<?, ?it/s]"
      ]
     },
     "metadata": {},
     "output_type": "display_data"
    },
    {
     "data": {
      "application/vnd.jupyter.widget-view+json": {
       "model_id": "e255c5f5b91b43fdb1e775cfaf23faef",
       "version_major": 2,
       "version_minor": 0
      },
      "text/plain": [
       "  0%|          | 0/900 [00:00<?, ?it/s]"
      ]
     },
     "metadata": {},
     "output_type": "display_data"
    },
    {
     "data": {
      "application/vnd.jupyter.widget-view+json": {
       "model_id": "90d57f478f1c470186a6fc3d84175fe8",
       "version_major": 2,
       "version_minor": 0
      },
      "text/plain": [
       "  0%|          | 0/900 [00:00<?, ?it/s]"
      ]
     },
     "metadata": {},
     "output_type": "display_data"
    },
    {
     "name": "stdout",
     "output_type": "stream",
     "text": [
      "/Users/toon.vandemaele/Projects/hippocampus-models/data/paper-results/experiment-appendix-capacity/runs/clones_single_rule/nr:1_nc:16_at:0.csv\n",
      "Running for  16  3 Rules\n"
     ]
    },
    {
     "name": "stderr",
     "output_type": "stream",
     "text": [
      "/Users/toon.vandemaele/.pyenv/versions/3.11.6/envs/hippo/lib/python3.11/site-packages/gymnasium/core.py:311: UserWarning: \u001b[33mWARN: env.get_frame to get variables from other wrappers is deprecated and will be removed in v1.0, to get this variable you can do `env.unwrapped.get_frame` for environment variables or `env.get_wrapper_attr('get_frame')` that will search the reminding wrappers.\u001b[0m\n",
      "  logger.warn(\n"
     ]
    },
    {
     "data": {
      "application/vnd.jupyter.widget-view+json": {
       "model_id": "15cbe83418bf4de98e633b025e29d2c8",
       "version_major": 2,
       "version_minor": 0
      },
      "text/plain": [
       "  0%|          | 0/900 [00:00<?, ?it/s]"
      ]
     },
     "metadata": {},
     "output_type": "display_data"
    },
    {
     "data": {
      "application/vnd.jupyter.widget-view+json": {
       "model_id": "e912314a44f4464584d6da7c1212522f",
       "version_major": 2,
       "version_minor": 0
      },
      "text/plain": [
       "  0%|          | 0/900 [00:00<?, ?it/s]"
      ]
     },
     "metadata": {},
     "output_type": "display_data"
    },
    {
     "data": {
      "application/vnd.jupyter.widget-view+json": {
       "model_id": "45fa1c45a5d24c8d849de09815789bbd",
       "version_major": 2,
       "version_minor": 0
      },
      "text/plain": [
       "  0%|          | 0/900 [00:00<?, ?it/s]"
      ]
     },
     "metadata": {},
     "output_type": "display_data"
    },
    {
     "data": {
      "application/vnd.jupyter.widget-view+json": {
       "model_id": "df41aab9f98246e19d2d754f2e6d5079",
       "version_major": 2,
       "version_minor": 0
      },
      "text/plain": [
       "  0%|          | 0/900 [00:00<?, ?it/s]"
      ]
     },
     "metadata": {},
     "output_type": "display_data"
    },
    {
     "data": {
      "application/vnd.jupyter.widget-view+json": {
       "model_id": "77b6ba2736ef46d5ba0c32ad38ceef00",
       "version_major": 2,
       "version_minor": 0
      },
      "text/plain": [
       "  0%|          | 0/900 [00:00<?, ?it/s]"
      ]
     },
     "metadata": {},
     "output_type": "display_data"
    },
    {
     "name": "stdout",
     "output_type": "stream",
     "text": [
      "/Users/toon.vandemaele/Projects/hippocampus-models/data/paper-results/experiment-appendix-capacity/runs/clones_multiple_rule/nr:3_nc:16_at:0.csv\n",
      "Running for  32  1 Rule\n"
     ]
    },
    {
     "name": "stderr",
     "output_type": "stream",
     "text": [
      "/Users/toon.vandemaele/.pyenv/versions/3.11.6/envs/hippo/lib/python3.11/site-packages/gymnasium/core.py:311: UserWarning: \u001b[33mWARN: env.get_frame to get variables from other wrappers is deprecated and will be removed in v1.0, to get this variable you can do `env.unwrapped.get_frame` for environment variables or `env.get_wrapper_attr('get_frame')` that will search the reminding wrappers.\u001b[0m\n",
      "  logger.warn(\n"
     ]
    },
    {
     "data": {
      "application/vnd.jupyter.widget-view+json": {
       "model_id": "74f95a46d9bc419f9474b2a7b727ba39",
       "version_major": 2,
       "version_minor": 0
      },
      "text/plain": [
       "  0%|          | 0/900 [00:00<?, ?it/s]"
      ]
     },
     "metadata": {},
     "output_type": "display_data"
    },
    {
     "data": {
      "application/vnd.jupyter.widget-view+json": {
       "model_id": "fca07ec04fba402f9e6cf13a8f4dfa83",
       "version_major": 2,
       "version_minor": 0
      },
      "text/plain": [
       "  0%|          | 0/900 [00:00<?, ?it/s]"
      ]
     },
     "metadata": {},
     "output_type": "display_data"
    },
    {
     "data": {
      "application/vnd.jupyter.widget-view+json": {
       "model_id": "2b80504127e345efa53fda8c9fc88393",
       "version_major": 2,
       "version_minor": 0
      },
      "text/plain": [
       "  0%|          | 0/900 [00:00<?, ?it/s]"
      ]
     },
     "metadata": {},
     "output_type": "display_data"
    },
    {
     "data": {
      "application/vnd.jupyter.widget-view+json": {
       "model_id": "132b0f7df97e44ce8891d6a6744d8b3e",
       "version_major": 2,
       "version_minor": 0
      },
      "text/plain": [
       "  0%|          | 0/900 [00:00<?, ?it/s]"
      ]
     },
     "metadata": {},
     "output_type": "display_data"
    },
    {
     "data": {
      "application/vnd.jupyter.widget-view+json": {
       "model_id": "e6cd9886f8d44482b7bd9344af34798c",
       "version_major": 2,
       "version_minor": 0
      },
      "text/plain": [
       "  0%|          | 0/900 [00:00<?, ?it/s]"
      ]
     },
     "metadata": {},
     "output_type": "display_data"
    },
    {
     "name": "stdout",
     "output_type": "stream",
     "text": [
      "/Users/toon.vandemaele/Projects/hippocampus-models/data/paper-results/experiment-appendix-capacity/runs/clones_single_rule/nr:1_nc:32_at:0.csv\n",
      "Running for  32  3 Rules\n"
     ]
    },
    {
     "name": "stderr",
     "output_type": "stream",
     "text": [
      "/Users/toon.vandemaele/.pyenv/versions/3.11.6/envs/hippo/lib/python3.11/site-packages/gymnasium/core.py:311: UserWarning: \u001b[33mWARN: env.get_frame to get variables from other wrappers is deprecated and will be removed in v1.0, to get this variable you can do `env.unwrapped.get_frame` for environment variables or `env.get_wrapper_attr('get_frame')` that will search the reminding wrappers.\u001b[0m\n",
      "  logger.warn(\n"
     ]
    },
    {
     "data": {
      "application/vnd.jupyter.widget-view+json": {
       "model_id": "26690b36abf94800b578c64efa4f7fa1",
       "version_major": 2,
       "version_minor": 0
      },
      "text/plain": [
       "  0%|          | 0/900 [00:00<?, ?it/s]"
      ]
     },
     "metadata": {},
     "output_type": "display_data"
    },
    {
     "data": {
      "application/vnd.jupyter.widget-view+json": {
       "model_id": "baa928099e7f4ba58ca51ea8ec734d44",
       "version_major": 2,
       "version_minor": 0
      },
      "text/plain": [
       "  0%|          | 0/900 [00:00<?, ?it/s]"
      ]
     },
     "metadata": {},
     "output_type": "display_data"
    },
    {
     "data": {
      "application/vnd.jupyter.widget-view+json": {
       "model_id": "7e22c2b562da43d587cecc970761e518",
       "version_major": 2,
       "version_minor": 0
      },
      "text/plain": [
       "  0%|          | 0/900 [00:00<?, ?it/s]"
      ]
     },
     "metadata": {},
     "output_type": "display_data"
    },
    {
     "data": {
      "application/vnd.jupyter.widget-view+json": {
       "model_id": "770280b4554542899565e3c4e8c39a01",
       "version_major": 2,
       "version_minor": 0
      },
      "text/plain": [
       "  0%|          | 0/900 [00:00<?, ?it/s]"
      ]
     },
     "metadata": {},
     "output_type": "display_data"
    },
    {
     "data": {
      "application/vnd.jupyter.widget-view+json": {
       "model_id": "ac27a64c93d0421a8e56986af273fb41",
       "version_major": 2,
       "version_minor": 0
      },
      "text/plain": [
       "  0%|          | 0/900 [00:00<?, ?it/s]"
      ]
     },
     "metadata": {},
     "output_type": "display_data"
    },
    {
     "name": "stdout",
     "output_type": "stream",
     "text": [
      "/Users/toon.vandemaele/Projects/hippocampus-models/data/paper-results/experiment-appendix-capacity/runs/clones_multiple_rule/nr:3_nc:32_at:0.csv\n"
     ]
    }
   ],
   "source": [
    "for n_clones in n_clones_list: \n",
    "    print(\"Running for \", n_clones, \" 1 Rule\")\n",
    "    run_experiment(\n",
    "        n_clones=n_clones, \n",
    "        added_task_size=0, \n",
    "        n_rules_model=1,\n",
    "        store_path_=store_path / \"clones_single_rule\", \n",
    "        n_trials=n_trials,\n",
    "        n_steps=n_steps, \n",
    "        switch_rule_every=n_steps, \n",
    "        n_rules=1\n",
    "    )\n",
    "\n",
    "    print(\"Running for \", n_clones, \" 3 Rules\")\n",
    "    run_experiment(\n",
    "        n_clones=n_clones, \n",
    "        added_task_size=0, \n",
    "        n_rules_model=3,\n",
    "        store_path_=store_path / \"clones_multiple_rule\", \n",
    "        n_trials=n_trials,\n",
    "        n_steps=n_steps, \n",
    "        switch_rule_every=rule_switch_at, \n",
    "        n_rules=3\n",
    "    )"
   ]
  },
  {
   "cell_type": "code",
   "execution_count": 8,
   "metadata": {},
   "outputs": [
    {
     "name": "stderr",
     "output_type": "stream",
     "text": [
      "/Users/toon.vandemaele/.pyenv/versions/3.11.6/envs/hippo/lib/python3.11/site-packages/gymnasium/core.py:311: UserWarning: \u001b[33mWARN: env.get_frame to get variables from other wrappers is deprecated and will be removed in v1.0, to get this variable you can do `env.unwrapped.get_frame` for environment variables or `env.get_wrapper_attr('get_frame')` that will search the reminding wrappers.\u001b[0m\n",
      "  logger.warn(\n"
     ]
    },
    {
     "data": {
      "application/vnd.jupyter.widget-view+json": {
       "model_id": "ce4085c8c8fd4540a842f7ca28b57c5b",
       "version_major": 2,
       "version_minor": 0
      },
      "text/plain": [
       "  0%|          | 0/900 [00:00<?, ?it/s]"
      ]
     },
     "metadata": {},
     "output_type": "display_data"
    },
    {
     "data": {
      "application/vnd.jupyter.widget-view+json": {
       "model_id": "6af0746b3aca467484c2bd56b7a28535",
       "version_major": 2,
       "version_minor": 0
      },
      "text/plain": [
       "  0%|          | 0/900 [00:00<?, ?it/s]"
      ]
     },
     "metadata": {},
     "output_type": "display_data"
    },
    {
     "data": {
      "application/vnd.jupyter.widget-view+json": {
       "model_id": "31691164f92d4da49d2bb35d3cf1c5b8",
       "version_major": 2,
       "version_minor": 0
      },
      "text/plain": [
       "  0%|          | 0/900 [00:00<?, ?it/s]"
      ]
     },
     "metadata": {},
     "output_type": "display_data"
    },
    {
     "data": {
      "application/vnd.jupyter.widget-view+json": {
       "model_id": "8b2463822ec74b56950fc443230bd483",
       "version_major": 2,
       "version_minor": 0
      },
      "text/plain": [
       "  0%|          | 0/900 [00:00<?, ?it/s]"
      ]
     },
     "metadata": {},
     "output_type": "display_data"
    },
    {
     "data": {
      "application/vnd.jupyter.widget-view+json": {
       "model_id": "88cdc71a9d7a45148e8b32fb7f6a848d",
       "version_major": 2,
       "version_minor": 0
      },
      "text/plain": [
       "  0%|          | 0/900 [00:00<?, ?it/s]"
      ]
     },
     "metadata": {},
     "output_type": "display_data"
    },
    {
     "name": "stdout",
     "output_type": "stream",
     "text": [
      "/Users/toon.vandemaele/Projects/hippocampus-models/data/paper-results/experiment-appendix-capacity/runs/rule_length_single_rule/nr:1_nc:10_at:0.csv\n"
     ]
    },
    {
     "name": "stderr",
     "output_type": "stream",
     "text": [
      "/Users/toon.vandemaele/.pyenv/versions/3.11.6/envs/hippo/lib/python3.11/site-packages/gymnasium/core.py:311: UserWarning: \u001b[33mWARN: env.get_frame to get variables from other wrappers is deprecated and will be removed in v1.0, to get this variable you can do `env.unwrapped.get_frame` for environment variables or `env.get_wrapper_attr('get_frame')` that will search the reminding wrappers.\u001b[0m\n",
      "  logger.warn(\n"
     ]
    },
    {
     "data": {
      "application/vnd.jupyter.widget-view+json": {
       "model_id": "e9972ade7357494aaab06ba2eafd4e9d",
       "version_major": 2,
       "version_minor": 0
      },
      "text/plain": [
       "  0%|          | 0/900 [00:00<?, ?it/s]"
      ]
     },
     "metadata": {},
     "output_type": "display_data"
    },
    {
     "data": {
      "application/vnd.jupyter.widget-view+json": {
       "model_id": "86965ac462654f59b27c4dc120134f9a",
       "version_major": 2,
       "version_minor": 0
      },
      "text/plain": [
       "  0%|          | 0/900 [00:00<?, ?it/s]"
      ]
     },
     "metadata": {},
     "output_type": "display_data"
    },
    {
     "data": {
      "application/vnd.jupyter.widget-view+json": {
       "model_id": "2c929a1abe7d4b0f8767e1e63abaee34",
       "version_major": 2,
       "version_minor": 0
      },
      "text/plain": [
       "  0%|          | 0/900 [00:00<?, ?it/s]"
      ]
     },
     "metadata": {},
     "output_type": "display_data"
    },
    {
     "data": {
      "application/vnd.jupyter.widget-view+json": {
       "model_id": "73c6bcc6ccdd491caf3ecb9c72c87902",
       "version_major": 2,
       "version_minor": 0
      },
      "text/plain": [
       "  0%|          | 0/900 [00:00<?, ?it/s]"
      ]
     },
     "metadata": {},
     "output_type": "display_data"
    },
    {
     "data": {
      "application/vnd.jupyter.widget-view+json": {
       "model_id": "1c9a273e6ad64a9fa2d0c08c0db8c44f",
       "version_major": 2,
       "version_minor": 0
      },
      "text/plain": [
       "  0%|          | 0/900 [00:00<?, ?it/s]"
      ]
     },
     "metadata": {},
     "output_type": "display_data"
    },
    {
     "name": "stdout",
     "output_type": "stream",
     "text": [
      "/Users/toon.vandemaele/Projects/hippocampus-models/data/paper-results/experiment-appendix-capacity/runs/rule_length_multiple_rule/nr:3_nc:32_at:0.csv\n"
     ]
    },
    {
     "name": "stderr",
     "output_type": "stream",
     "text": [
      "/Users/toon.vandemaele/.pyenv/versions/3.11.6/envs/hippo/lib/python3.11/site-packages/gymnasium/core.py:311: UserWarning: \u001b[33mWARN: env.get_frame to get variables from other wrappers is deprecated and will be removed in v1.0, to get this variable you can do `env.unwrapped.get_frame` for environment variables or `env.get_wrapper_attr('get_frame')` that will search the reminding wrappers.\u001b[0m\n",
      "  logger.warn(\n"
     ]
    },
    {
     "data": {
      "application/vnd.jupyter.widget-view+json": {
       "model_id": "348b779adf5e44dca668c515d8cd7c65",
       "version_major": 2,
       "version_minor": 0
      },
      "text/plain": [
       "  0%|          | 0/900 [00:00<?, ?it/s]"
      ]
     },
     "metadata": {},
     "output_type": "display_data"
    },
    {
     "data": {
      "application/vnd.jupyter.widget-view+json": {
       "model_id": "08eaededc6044ecb8d4c7aec6f8960e0",
       "version_major": 2,
       "version_minor": 0
      },
      "text/plain": [
       "  0%|          | 0/900 [00:00<?, ?it/s]"
      ]
     },
     "metadata": {},
     "output_type": "display_data"
    },
    {
     "data": {
      "application/vnd.jupyter.widget-view+json": {
       "model_id": "a355f7599df348319df8b83a826dade0",
       "version_major": 2,
       "version_minor": 0
      },
      "text/plain": [
       "  0%|          | 0/900 [00:00<?, ?it/s]"
      ]
     },
     "metadata": {},
     "output_type": "display_data"
    },
    {
     "data": {
      "application/vnd.jupyter.widget-view+json": {
       "model_id": "2d88ee299b7d4c53b0179ad583cb63a0",
       "version_major": 2,
       "version_minor": 0
      },
      "text/plain": [
       "  0%|          | 0/900 [00:00<?, ?it/s]"
      ]
     },
     "metadata": {},
     "output_type": "display_data"
    },
    {
     "data": {
      "application/vnd.jupyter.widget-view+json": {
       "model_id": "211b25a7030b401f828ff4698f29f34d",
       "version_major": 2,
       "version_minor": 0
      },
      "text/plain": [
       "  0%|          | 0/900 [00:00<?, ?it/s]"
      ]
     },
     "metadata": {},
     "output_type": "display_data"
    },
    {
     "name": "stdout",
     "output_type": "stream",
     "text": [
      "/Users/toon.vandemaele/Projects/hippocampus-models/data/paper-results/experiment-appendix-capacity/runs/rule_length_single_rule/nr:1_nc:10_at:1.csv\n"
     ]
    },
    {
     "name": "stderr",
     "output_type": "stream",
     "text": [
      "/Users/toon.vandemaele/.pyenv/versions/3.11.6/envs/hippo/lib/python3.11/site-packages/gymnasium/core.py:311: UserWarning: \u001b[33mWARN: env.get_frame to get variables from other wrappers is deprecated and will be removed in v1.0, to get this variable you can do `env.unwrapped.get_frame` for environment variables or `env.get_wrapper_attr('get_frame')` that will search the reminding wrappers.\u001b[0m\n",
      "  logger.warn(\n"
     ]
    },
    {
     "data": {
      "application/vnd.jupyter.widget-view+json": {
       "model_id": "4867e4b754414b7fa7fa8a4c0381d0ce",
       "version_major": 2,
       "version_minor": 0
      },
      "text/plain": [
       "  0%|          | 0/900 [00:00<?, ?it/s]"
      ]
     },
     "metadata": {},
     "output_type": "display_data"
    },
    {
     "data": {
      "application/vnd.jupyter.widget-view+json": {
       "model_id": "39dafca335124fc988520f46484952f4",
       "version_major": 2,
       "version_minor": 0
      },
      "text/plain": [
       "  0%|          | 0/900 [00:00<?, ?it/s]"
      ]
     },
     "metadata": {},
     "output_type": "display_data"
    },
    {
     "data": {
      "application/vnd.jupyter.widget-view+json": {
       "model_id": "91df423ab0564925a7ebf6b1fbf9977a",
       "version_major": 2,
       "version_minor": 0
      },
      "text/plain": [
       "  0%|          | 0/900 [00:00<?, ?it/s]"
      ]
     },
     "metadata": {},
     "output_type": "display_data"
    },
    {
     "data": {
      "application/vnd.jupyter.widget-view+json": {
       "model_id": "8e37875be00d4769bae5f79f0b69cf22",
       "version_major": 2,
       "version_minor": 0
      },
      "text/plain": [
       "  0%|          | 0/900 [00:00<?, ?it/s]"
      ]
     },
     "metadata": {},
     "output_type": "display_data"
    },
    {
     "data": {
      "application/vnd.jupyter.widget-view+json": {
       "model_id": "6c52e57f271642219964c4f744c7da44",
       "version_major": 2,
       "version_minor": 0
      },
      "text/plain": [
       "  0%|          | 0/900 [00:00<?, ?it/s]"
      ]
     },
     "metadata": {},
     "output_type": "display_data"
    },
    {
     "name": "stdout",
     "output_type": "stream",
     "text": [
      "/Users/toon.vandemaele/Projects/hippocampus-models/data/paper-results/experiment-appendix-capacity/runs/rule_length_multiple_rule/nr:3_nc:32_at:1.csv\n"
     ]
    },
    {
     "name": "stderr",
     "output_type": "stream",
     "text": [
      "/Users/toon.vandemaele/.pyenv/versions/3.11.6/envs/hippo/lib/python3.11/site-packages/gymnasium/core.py:311: UserWarning: \u001b[33mWARN: env.get_frame to get variables from other wrappers is deprecated and will be removed in v1.0, to get this variable you can do `env.unwrapped.get_frame` for environment variables or `env.get_wrapper_attr('get_frame')` that will search the reminding wrappers.\u001b[0m\n",
      "  logger.warn(\n"
     ]
    },
    {
     "data": {
      "application/vnd.jupyter.widget-view+json": {
       "model_id": "259cdbe527434feba28e91b2796f944c",
       "version_major": 2,
       "version_minor": 0
      },
      "text/plain": [
       "  0%|          | 0/900 [00:00<?, ?it/s]"
      ]
     },
     "metadata": {},
     "output_type": "display_data"
    },
    {
     "data": {
      "application/vnd.jupyter.widget-view+json": {
       "model_id": "52807c18cd634282a65d8d8bb0994443",
       "version_major": 2,
       "version_minor": 0
      },
      "text/plain": [
       "  0%|          | 0/900 [00:00<?, ?it/s]"
      ]
     },
     "metadata": {},
     "output_type": "display_data"
    },
    {
     "data": {
      "application/vnd.jupyter.widget-view+json": {
       "model_id": "7b121bc0914c48f6af7bdcd02e8d139b",
       "version_major": 2,
       "version_minor": 0
      },
      "text/plain": [
       "  0%|          | 0/900 [00:00<?, ?it/s]"
      ]
     },
     "metadata": {},
     "output_type": "display_data"
    },
    {
     "data": {
      "application/vnd.jupyter.widget-view+json": {
       "model_id": "3004ae603fc1487da4bb500e9f98b390",
       "version_major": 2,
       "version_minor": 0
      },
      "text/plain": [
       "  0%|          | 0/900 [00:00<?, ?it/s]"
      ]
     },
     "metadata": {},
     "output_type": "display_data"
    },
    {
     "data": {
      "application/vnd.jupyter.widget-view+json": {
       "model_id": "87b6493136b3447d89754619ad7aa53e",
       "version_major": 2,
       "version_minor": 0
      },
      "text/plain": [
       "  0%|          | 0/900 [00:00<?, ?it/s]"
      ]
     },
     "metadata": {},
     "output_type": "display_data"
    },
    {
     "name": "stdout",
     "output_type": "stream",
     "text": [
      "/Users/toon.vandemaele/Projects/hippocampus-models/data/paper-results/experiment-appendix-capacity/runs/rule_length_single_rule/nr:1_nc:10_at:2.csv\n"
     ]
    },
    {
     "name": "stderr",
     "output_type": "stream",
     "text": [
      "/Users/toon.vandemaele/.pyenv/versions/3.11.6/envs/hippo/lib/python3.11/site-packages/gymnasium/core.py:311: UserWarning: \u001b[33mWARN: env.get_frame to get variables from other wrappers is deprecated and will be removed in v1.0, to get this variable you can do `env.unwrapped.get_frame` for environment variables or `env.get_wrapper_attr('get_frame')` that will search the reminding wrappers.\u001b[0m\n",
      "  logger.warn(\n"
     ]
    },
    {
     "data": {
      "application/vnd.jupyter.widget-view+json": {
       "model_id": "aa63d5f524a64f05978434ba919d81c0",
       "version_major": 2,
       "version_minor": 0
      },
      "text/plain": [
       "  0%|          | 0/900 [00:00<?, ?it/s]"
      ]
     },
     "metadata": {},
     "output_type": "display_data"
    },
    {
     "data": {
      "application/vnd.jupyter.widget-view+json": {
       "model_id": "e4f761a64af944c0b6e8f07657474d22",
       "version_major": 2,
       "version_minor": 0
      },
      "text/plain": [
       "  0%|          | 0/900 [00:00<?, ?it/s]"
      ]
     },
     "metadata": {},
     "output_type": "display_data"
    },
    {
     "data": {
      "application/vnd.jupyter.widget-view+json": {
       "model_id": "bff70c9762594f97951206848d370da6",
       "version_major": 2,
       "version_minor": 0
      },
      "text/plain": [
       "  0%|          | 0/900 [00:00<?, ?it/s]"
      ]
     },
     "metadata": {},
     "output_type": "display_data"
    },
    {
     "data": {
      "application/vnd.jupyter.widget-view+json": {
       "model_id": "e07522e5e26542d1b2e983c02e5b0bc8",
       "version_major": 2,
       "version_minor": 0
      },
      "text/plain": [
       "  0%|          | 0/900 [00:00<?, ?it/s]"
      ]
     },
     "metadata": {},
     "output_type": "display_data"
    },
    {
     "data": {
      "application/vnd.jupyter.widget-view+json": {
       "model_id": "6e05e6474acf4d14a60d2ae96ab2c6dc",
       "version_major": 2,
       "version_minor": 0
      },
      "text/plain": [
       "  0%|          | 0/900 [00:00<?, ?it/s]"
      ]
     },
     "metadata": {},
     "output_type": "display_data"
    },
    {
     "name": "stdout",
     "output_type": "stream",
     "text": [
      "/Users/toon.vandemaele/Projects/hippocampus-models/data/paper-results/experiment-appendix-capacity/runs/rule_length_multiple_rule/nr:3_nc:32_at:2.csv\n"
     ]
    },
    {
     "name": "stderr",
     "output_type": "stream",
     "text": [
      "/Users/toon.vandemaele/.pyenv/versions/3.11.6/envs/hippo/lib/python3.11/site-packages/gymnasium/core.py:311: UserWarning: \u001b[33mWARN: env.get_frame to get variables from other wrappers is deprecated and will be removed in v1.0, to get this variable you can do `env.unwrapped.get_frame` for environment variables or `env.get_wrapper_attr('get_frame')` that will search the reminding wrappers.\u001b[0m\n",
      "  logger.warn(\n"
     ]
    },
    {
     "data": {
      "application/vnd.jupyter.widget-view+json": {
       "model_id": "389dc2ecaa9e42449175ba45c307bafe",
       "version_major": 2,
       "version_minor": 0
      },
      "text/plain": [
       "  0%|          | 0/900 [00:00<?, ?it/s]"
      ]
     },
     "metadata": {},
     "output_type": "display_data"
    },
    {
     "data": {
      "application/vnd.jupyter.widget-view+json": {
       "model_id": "7591ca1fee51468eb5596d2368a81015",
       "version_major": 2,
       "version_minor": 0
      },
      "text/plain": [
       "  0%|          | 0/900 [00:00<?, ?it/s]"
      ]
     },
     "metadata": {},
     "output_type": "display_data"
    },
    {
     "data": {
      "application/vnd.jupyter.widget-view+json": {
       "model_id": "351a10e8327d462abf12316bfbe261b4",
       "version_major": 2,
       "version_minor": 0
      },
      "text/plain": [
       "  0%|          | 0/900 [00:00<?, ?it/s]"
      ]
     },
     "metadata": {},
     "output_type": "display_data"
    },
    {
     "data": {
      "application/vnd.jupyter.widget-view+json": {
       "model_id": "8078a78467954f2e938c73ee66194482",
       "version_major": 2,
       "version_minor": 0
      },
      "text/plain": [
       "  0%|          | 0/900 [00:00<?, ?it/s]"
      ]
     },
     "metadata": {},
     "output_type": "display_data"
    },
    {
     "data": {
      "application/vnd.jupyter.widget-view+json": {
       "model_id": "8e2fe514ae4f4d2e8bdc0dd6d3a38c0b",
       "version_major": 2,
       "version_minor": 0
      },
      "text/plain": [
       "  0%|          | 0/900 [00:00<?, ?it/s]"
      ]
     },
     "metadata": {},
     "output_type": "display_data"
    },
    {
     "name": "stdout",
     "output_type": "stream",
     "text": [
      "/Users/toon.vandemaele/Projects/hippocampus-models/data/paper-results/experiment-appendix-capacity/runs/rule_length_single_rule/nr:1_nc:10_at:3.csv\n"
     ]
    },
    {
     "name": "stderr",
     "output_type": "stream",
     "text": [
      "/Users/toon.vandemaele/.pyenv/versions/3.11.6/envs/hippo/lib/python3.11/site-packages/gymnasium/core.py:311: UserWarning: \u001b[33mWARN: env.get_frame to get variables from other wrappers is deprecated and will be removed in v1.0, to get this variable you can do `env.unwrapped.get_frame` for environment variables or `env.get_wrapper_attr('get_frame')` that will search the reminding wrappers.\u001b[0m\n",
      "  logger.warn(\n"
     ]
    },
    {
     "data": {
      "application/vnd.jupyter.widget-view+json": {
       "model_id": "02a7a747fb5d4c0ba079d667c742d490",
       "version_major": 2,
       "version_minor": 0
      },
      "text/plain": [
       "  0%|          | 0/900 [00:00<?, ?it/s]"
      ]
     },
     "metadata": {},
     "output_type": "display_data"
    },
    {
     "data": {
      "application/vnd.jupyter.widget-view+json": {
       "model_id": "feaf4a16d0b842609d81f9c980f1b269",
       "version_major": 2,
       "version_minor": 0
      },
      "text/plain": [
       "  0%|          | 0/900 [00:00<?, ?it/s]"
      ]
     },
     "metadata": {},
     "output_type": "display_data"
    },
    {
     "data": {
      "application/vnd.jupyter.widget-view+json": {
       "model_id": "e251e34ab65f4f4eb1fec77c677ba9b8",
       "version_major": 2,
       "version_minor": 0
      },
      "text/plain": [
       "  0%|          | 0/900 [00:00<?, ?it/s]"
      ]
     },
     "metadata": {},
     "output_type": "display_data"
    },
    {
     "data": {
      "application/vnd.jupyter.widget-view+json": {
       "model_id": "aa0eefdb5cb4424f83d28c091da76622",
       "version_major": 2,
       "version_minor": 0
      },
      "text/plain": [
       "  0%|          | 0/900 [00:00<?, ?it/s]"
      ]
     },
     "metadata": {},
     "output_type": "display_data"
    },
    {
     "data": {
      "application/vnd.jupyter.widget-view+json": {
       "model_id": "94f468ae2ecb456ca90c3d4517b53f8d",
       "version_major": 2,
       "version_minor": 0
      },
      "text/plain": [
       "  0%|          | 0/900 [00:00<?, ?it/s]"
      ]
     },
     "metadata": {},
     "output_type": "display_data"
    },
    {
     "name": "stdout",
     "output_type": "stream",
     "text": [
      "/Users/toon.vandemaele/Projects/hippocampus-models/data/paper-results/experiment-appendix-capacity/runs/rule_length_multiple_rule/nr:3_nc:32_at:3.csv\n"
     ]
    }
   ],
   "source": [
    "for added_task_size in added_task_size_list:\n",
    "    run_experiment(\n",
    "        n_clones=10, \n",
    "        added_task_size=added_task_size, \n",
    "        n_rules_model=1,\n",
    "        store_path_=store_path / \"rule_length_single_rule\", \n",
    "        n_trials=n_trials,\n",
    "        n_steps=n_steps, \n",
    "        switch_rule_every=n_steps, \n",
    "        n_rules=1\n",
    "    )\n",
    "\n",
    "    run_experiment(\n",
    "        n_clones=32, \n",
    "        added_task_size=added_task_size, \n",
    "        n_rules_model=3,\n",
    "        store_path_=store_path / \"rule_length_multiple_rule\", \n",
    "        n_trials=n_trials,\n",
    "        n_steps=n_steps, \n",
    "        switch_rule_every=rule_switch_at, \n",
    "        n_rules=3\n",
    "    )"
   ]
  },
  {
   "cell_type": "code",
   "execution_count": 9,
   "metadata": {},
   "outputs": [
    {
     "name": "stderr",
     "output_type": "stream",
     "text": [
      "/Users/toon.vandemaele/.pyenv/versions/3.11.6/envs/hippo/lib/python3.11/site-packages/gymnasium/core.py:311: UserWarning: \u001b[33mWARN: env.get_frame to get variables from other wrappers is deprecated and will be removed in v1.0, to get this variable you can do `env.unwrapped.get_frame` for environment variables or `env.get_wrapper_attr('get_frame')` that will search the reminding wrappers.\u001b[0m\n",
      "  logger.warn(\n"
     ]
    },
    {
     "data": {
      "application/vnd.jupyter.widget-view+json": {
       "model_id": "415e8f3748e0469ea36467a70c8f09f1",
       "version_major": 2,
       "version_minor": 0
      },
      "text/plain": [
       "  0%|          | 0/1050 [00:00<?, ?it/s]"
      ]
     },
     "metadata": {},
     "output_type": "display_data"
    },
    {
     "data": {
      "application/vnd.jupyter.widget-view+json": {
       "model_id": "39a5ed0f8c154d0eac1c08fbfcb0fa95",
       "version_major": 2,
       "version_minor": 0
      },
      "text/plain": [
       "  0%|          | 0/1050 [00:00<?, ?it/s]"
      ]
     },
     "metadata": {},
     "output_type": "display_data"
    },
    {
     "data": {
      "application/vnd.jupyter.widget-view+json": {
       "model_id": "2df61873b5d645a9b306ceb7f304123a",
       "version_major": 2,
       "version_minor": 0
      },
      "text/plain": [
       "  0%|          | 0/1050 [00:00<?, ?it/s]"
      ]
     },
     "metadata": {},
     "output_type": "display_data"
    },
    {
     "data": {
      "application/vnd.jupyter.widget-view+json": {
       "model_id": "5bc1722f34b5480c85497546557d115d",
       "version_major": 2,
       "version_minor": 0
      },
      "text/plain": [
       "  0%|          | 0/1050 [00:00<?, ?it/s]"
      ]
     },
     "metadata": {},
     "output_type": "display_data"
    },
    {
     "data": {
      "application/vnd.jupyter.widget-view+json": {
       "model_id": "26757f63c36547c88e914db176eafb67",
       "version_major": 2,
       "version_minor": 0
      },
      "text/plain": [
       "  0%|          | 0/1050 [00:00<?, ?it/s]"
      ]
     },
     "metadata": {},
     "output_type": "display_data"
    },
    {
     "name": "stdout",
     "output_type": "stream",
     "text": [
      "/Users/toon.vandemaele/Projects/hippocampus-models/data/paper-results/experiment-appendix-capacity/runs/n_rules_multiple/nr:1_nc:32_at:0.csv\n"
     ]
    },
    {
     "name": "stderr",
     "output_type": "stream",
     "text": [
      "/Users/toon.vandemaele/.pyenv/versions/3.11.6/envs/hippo/lib/python3.11/site-packages/gymnasium/core.py:311: UserWarning: \u001b[33mWARN: env.get_frame to get variables from other wrappers is deprecated and will be removed in v1.0, to get this variable you can do `env.unwrapped.get_frame` for environment variables or `env.get_wrapper_attr('get_frame')` that will search the reminding wrappers.\u001b[0m\n",
      "  logger.warn(\n"
     ]
    },
    {
     "data": {
      "application/vnd.jupyter.widget-view+json": {
       "model_id": "8bd584adf5384f80bc5f34698454d8b2",
       "version_major": 2,
       "version_minor": 0
      },
      "text/plain": [
       "  0%|          | 0/1050 [00:00<?, ?it/s]"
      ]
     },
     "metadata": {},
     "output_type": "display_data"
    },
    {
     "data": {
      "application/vnd.jupyter.widget-view+json": {
       "model_id": "5394c89fbbcd41508049205a5d5920bf",
       "version_major": 2,
       "version_minor": 0
      },
      "text/plain": [
       "  0%|          | 0/1050 [00:00<?, ?it/s]"
      ]
     },
     "metadata": {},
     "output_type": "display_data"
    },
    {
     "data": {
      "application/vnd.jupyter.widget-view+json": {
       "model_id": "aee21565e25e4567818916d5a36a9c2f",
       "version_major": 2,
       "version_minor": 0
      },
      "text/plain": [
       "  0%|          | 0/1050 [00:00<?, ?it/s]"
      ]
     },
     "metadata": {},
     "output_type": "display_data"
    },
    {
     "data": {
      "application/vnd.jupyter.widget-view+json": {
       "model_id": "9da26b2137814a3e9fe12ba33329a03c",
       "version_major": 2,
       "version_minor": 0
      },
      "text/plain": [
       "  0%|          | 0/1050 [00:00<?, ?it/s]"
      ]
     },
     "metadata": {},
     "output_type": "display_data"
    },
    {
     "data": {
      "application/vnd.jupyter.widget-view+json": {
       "model_id": "73990752e7de472aa766690a18f0d675",
       "version_major": 2,
       "version_minor": 0
      },
      "text/plain": [
       "  0%|          | 0/1050 [00:00<?, ?it/s]"
      ]
     },
     "metadata": {},
     "output_type": "display_data"
    },
    {
     "name": "stdout",
     "output_type": "stream",
     "text": [
      "/Users/toon.vandemaele/Projects/hippocampus-models/data/paper-results/experiment-appendix-capacity/runs/n_rules_multiple/nr:2_nc:32_at:0.csv\n"
     ]
    },
    {
     "name": "stderr",
     "output_type": "stream",
     "text": [
      "/Users/toon.vandemaele/.pyenv/versions/3.11.6/envs/hippo/lib/python3.11/site-packages/gymnasium/core.py:311: UserWarning: \u001b[33mWARN: env.get_frame to get variables from other wrappers is deprecated and will be removed in v1.0, to get this variable you can do `env.unwrapped.get_frame` for environment variables or `env.get_wrapper_attr('get_frame')` that will search the reminding wrappers.\u001b[0m\n",
      "  logger.warn(\n"
     ]
    },
    {
     "data": {
      "application/vnd.jupyter.widget-view+json": {
       "model_id": "123a1aaecea54b6294317721f2577e07",
       "version_major": 2,
       "version_minor": 0
      },
      "text/plain": [
       "  0%|          | 0/1050 [00:00<?, ?it/s]"
      ]
     },
     "metadata": {},
     "output_type": "display_data"
    },
    {
     "data": {
      "application/vnd.jupyter.widget-view+json": {
       "model_id": "06efb7fee2604a92b1a69c8a571d858f",
       "version_major": 2,
       "version_minor": 0
      },
      "text/plain": [
       "  0%|          | 0/1050 [00:00<?, ?it/s]"
      ]
     },
     "metadata": {},
     "output_type": "display_data"
    },
    {
     "data": {
      "application/vnd.jupyter.widget-view+json": {
       "model_id": "51ac8068e1f348c7be0ddeaffcc31f81",
       "version_major": 2,
       "version_minor": 0
      },
      "text/plain": [
       "  0%|          | 0/1050 [00:00<?, ?it/s]"
      ]
     },
     "metadata": {},
     "output_type": "display_data"
    },
    {
     "data": {
      "application/vnd.jupyter.widget-view+json": {
       "model_id": "9ceb3d2543c543938a0781cf816d4f48",
       "version_major": 2,
       "version_minor": 0
      },
      "text/plain": [
       "  0%|          | 0/1050 [00:00<?, ?it/s]"
      ]
     },
     "metadata": {},
     "output_type": "display_data"
    },
    {
     "data": {
      "application/vnd.jupyter.widget-view+json": {
       "model_id": "1465fad46ce44124a3d0e5a22e8aaba6",
       "version_major": 2,
       "version_minor": 0
      },
      "text/plain": [
       "  0%|          | 0/1050 [00:00<?, ?it/s]"
      ]
     },
     "metadata": {},
     "output_type": "display_data"
    },
    {
     "name": "stdout",
     "output_type": "stream",
     "text": [
      "/Users/toon.vandemaele/Projects/hippocampus-models/data/paper-results/experiment-appendix-capacity/runs/n_rules_multiple/nr:3_nc:32_at:0.csv\n"
     ]
    },
    {
     "name": "stderr",
     "output_type": "stream",
     "text": [
      "/Users/toon.vandemaele/.pyenv/versions/3.11.6/envs/hippo/lib/python3.11/site-packages/gymnasium/core.py:311: UserWarning: \u001b[33mWARN: env.get_frame to get variables from other wrappers is deprecated and will be removed in v1.0, to get this variable you can do `env.unwrapped.get_frame` for environment variables or `env.get_wrapper_attr('get_frame')` that will search the reminding wrappers.\u001b[0m\n",
      "  logger.warn(\n"
     ]
    },
    {
     "data": {
      "application/vnd.jupyter.widget-view+json": {
       "model_id": "1b643c152fd94aa098c5c1a572bc4401",
       "version_major": 2,
       "version_minor": 0
      },
      "text/plain": [
       "  0%|          | 0/1050 [00:00<?, ?it/s]"
      ]
     },
     "metadata": {},
     "output_type": "display_data"
    },
    {
     "data": {
      "application/vnd.jupyter.widget-view+json": {
       "model_id": "87ba72ae4dc04845bf9bfbe452808c2c",
       "version_major": 2,
       "version_minor": 0
      },
      "text/plain": [
       "  0%|          | 0/1050 [00:00<?, ?it/s]"
      ]
     },
     "metadata": {},
     "output_type": "display_data"
    },
    {
     "data": {
      "application/vnd.jupyter.widget-view+json": {
       "model_id": "a228cf5b938f4d27a7a9422d43811f2d",
       "version_major": 2,
       "version_minor": 0
      },
      "text/plain": [
       "  0%|          | 0/1050 [00:00<?, ?it/s]"
      ]
     },
     "metadata": {},
     "output_type": "display_data"
    },
    {
     "data": {
      "application/vnd.jupyter.widget-view+json": {
       "model_id": "de174998ec174ac68c10a1f6a9a50e7d",
       "version_major": 2,
       "version_minor": 0
      },
      "text/plain": [
       "  0%|          | 0/1050 [00:00<?, ?it/s]"
      ]
     },
     "metadata": {},
     "output_type": "display_data"
    },
    {
     "data": {
      "application/vnd.jupyter.widget-view+json": {
       "model_id": "6729a5b73a4441b6a5439add6cc70e24",
       "version_major": 2,
       "version_minor": 0
      },
      "text/plain": [
       "  0%|          | 0/1050 [00:00<?, ?it/s]"
      ]
     },
     "metadata": {},
     "output_type": "display_data"
    },
    {
     "name": "stdout",
     "output_type": "stream",
     "text": [
      "/Users/toon.vandemaele/Projects/hippocampus-models/data/paper-results/experiment-appendix-capacity/runs/n_rules_multiple/nr:4_nc:32_at:0.csv\n"
     ]
    },
    {
     "name": "stderr",
     "output_type": "stream",
     "text": [
      "/Users/toon.vandemaele/.pyenv/versions/3.11.6/envs/hippo/lib/python3.11/site-packages/gymnasium/core.py:311: UserWarning: \u001b[33mWARN: env.get_frame to get variables from other wrappers is deprecated and will be removed in v1.0, to get this variable you can do `env.unwrapped.get_frame` for environment variables or `env.get_wrapper_attr('get_frame')` that will search the reminding wrappers.\u001b[0m\n",
      "  logger.warn(\n"
     ]
    },
    {
     "data": {
      "application/vnd.jupyter.widget-view+json": {
       "model_id": "31390a1c8c1a45b7beff3adb731a331b",
       "version_major": 2,
       "version_minor": 0
      },
      "text/plain": [
       "  0%|          | 0/1050 [00:00<?, ?it/s]"
      ]
     },
     "metadata": {},
     "output_type": "display_data"
    },
    {
     "data": {
      "application/vnd.jupyter.widget-view+json": {
       "model_id": "c1dd9fb81f0e46b39631f216c58d522b",
       "version_major": 2,
       "version_minor": 0
      },
      "text/plain": [
       "  0%|          | 0/1050 [00:00<?, ?it/s]"
      ]
     },
     "metadata": {},
     "output_type": "display_data"
    },
    {
     "data": {
      "application/vnd.jupyter.widget-view+json": {
       "model_id": "692129bf52da4178b12a9c71a37e6fcc",
       "version_major": 2,
       "version_minor": 0
      },
      "text/plain": [
       "  0%|          | 0/1050 [00:00<?, ?it/s]"
      ]
     },
     "metadata": {},
     "output_type": "display_data"
    },
    {
     "data": {
      "application/vnd.jupyter.widget-view+json": {
       "model_id": "5a159ffa9f2e4f3bb1145ad388858f7b",
       "version_major": 2,
       "version_minor": 0
      },
      "text/plain": [
       "  0%|          | 0/1050 [00:00<?, ?it/s]"
      ]
     },
     "metadata": {},
     "output_type": "display_data"
    },
    {
     "data": {
      "application/vnd.jupyter.widget-view+json": {
       "model_id": "63b58cc65e134cd08ac2513012e288ba",
       "version_major": 2,
       "version_minor": 0
      },
      "text/plain": [
       "  0%|          | 0/1050 [00:00<?, ?it/s]"
      ]
     },
     "metadata": {},
     "output_type": "display_data"
    },
    {
     "name": "stdout",
     "output_type": "stream",
     "text": [
      "/Users/toon.vandemaele/Projects/hippocampus-models/data/paper-results/experiment-appendix-capacity/runs/n_rules_multiple/nr:5_nc:32_at:0.csv\n"
     ]
    },
    {
     "name": "stderr",
     "output_type": "stream",
     "text": [
      "/Users/toon.vandemaele/.pyenv/versions/3.11.6/envs/hippo/lib/python3.11/site-packages/gymnasium/core.py:311: UserWarning: \u001b[33mWARN: env.get_frame to get variables from other wrappers is deprecated and will be removed in v1.0, to get this variable you can do `env.unwrapped.get_frame` for environment variables or `env.get_wrapper_attr('get_frame')` that will search the reminding wrappers.\u001b[0m\n",
      "  logger.warn(\n"
     ]
    },
    {
     "data": {
      "application/vnd.jupyter.widget-view+json": {
       "model_id": "336de0453a5d4497993c5745e8068c2d",
       "version_major": 2,
       "version_minor": 0
      },
      "text/plain": [
       "  0%|          | 0/1050 [00:00<?, ?it/s]"
      ]
     },
     "metadata": {},
     "output_type": "display_data"
    },
    {
     "data": {
      "application/vnd.jupyter.widget-view+json": {
       "model_id": "2514c49069b34fbeacf1a7cfce02ba92",
       "version_major": 2,
       "version_minor": 0
      },
      "text/plain": [
       "  0%|          | 0/1050 [00:00<?, ?it/s]"
      ]
     },
     "metadata": {},
     "output_type": "display_data"
    },
    {
     "data": {
      "application/vnd.jupyter.widget-view+json": {
       "model_id": "9aa5a577a0c94fd5aa72db31e6f335ed",
       "version_major": 2,
       "version_minor": 0
      },
      "text/plain": [
       "  0%|          | 0/1050 [00:00<?, ?it/s]"
      ]
     },
     "metadata": {},
     "output_type": "display_data"
    },
    {
     "data": {
      "application/vnd.jupyter.widget-view+json": {
       "model_id": "ec2e5f076dea4fa481804c026fdfeae0",
       "version_major": 2,
       "version_minor": 0
      },
      "text/plain": [
       "  0%|          | 0/1050 [00:00<?, ?it/s]"
      ]
     },
     "metadata": {},
     "output_type": "display_data"
    },
    {
     "data": {
      "application/vnd.jupyter.widget-view+json": {
       "model_id": "353700392c3144c18c3604a18ff18d3c",
       "version_major": 2,
       "version_minor": 0
      },
      "text/plain": [
       "  0%|          | 0/1050 [00:00<?, ?it/s]"
      ]
     },
     "metadata": {},
     "output_type": "display_data"
    },
    {
     "name": "stdout",
     "output_type": "stream",
     "text": [
      "/Users/toon.vandemaele/Projects/hippocampus-models/data/paper-results/experiment-appendix-capacity/runs/n_rules_multiple/nr:6_nc:32_at:0.csv\n"
     ]
    },
    {
     "name": "stderr",
     "output_type": "stream",
     "text": [
      "/Users/toon.vandemaele/.pyenv/versions/3.11.6/envs/hippo/lib/python3.11/site-packages/gymnasium/core.py:311: UserWarning: \u001b[33mWARN: env.get_frame to get variables from other wrappers is deprecated and will be removed in v1.0, to get this variable you can do `env.unwrapped.get_frame` for environment variables or `env.get_wrapper_attr('get_frame')` that will search the reminding wrappers.\u001b[0m\n",
      "  logger.warn(\n"
     ]
    },
    {
     "data": {
      "application/vnd.jupyter.widget-view+json": {
       "model_id": "4e522b5587294e8991d921b426da47b8",
       "version_major": 2,
       "version_minor": 0
      },
      "text/plain": [
       "  0%|          | 0/1050 [00:00<?, ?it/s]"
      ]
     },
     "metadata": {},
     "output_type": "display_data"
    },
    {
     "data": {
      "application/vnd.jupyter.widget-view+json": {
       "model_id": "9c3f17d4a05749c38b895d94430e40ba",
       "version_major": 2,
       "version_minor": 0
      },
      "text/plain": [
       "  0%|          | 0/1050 [00:00<?, ?it/s]"
      ]
     },
     "metadata": {},
     "output_type": "display_data"
    },
    {
     "data": {
      "application/vnd.jupyter.widget-view+json": {
       "model_id": "b37d7af51ca24e9881bc21086a11199e",
       "version_major": 2,
       "version_minor": 0
      },
      "text/plain": [
       "  0%|          | 0/1050 [00:00<?, ?it/s]"
      ]
     },
     "metadata": {},
     "output_type": "display_data"
    },
    {
     "data": {
      "application/vnd.jupyter.widget-view+json": {
       "model_id": "9f1624e5587c4fea8d43565427ed6770",
       "version_major": 2,
       "version_minor": 0
      },
      "text/plain": [
       "  0%|          | 0/1050 [00:00<?, ?it/s]"
      ]
     },
     "metadata": {},
     "output_type": "display_data"
    },
    {
     "data": {
      "application/vnd.jupyter.widget-view+json": {
       "model_id": "66f9a818e1d74b6bad49a94872e05bcc",
       "version_major": 2,
       "version_minor": 0
      },
      "text/plain": [
       "  0%|          | 0/1050 [00:00<?, ?it/s]"
      ]
     },
     "metadata": {},
     "output_type": "display_data"
    },
    {
     "name": "stdout",
     "output_type": "stream",
     "text": [
      "/Users/toon.vandemaele/Projects/hippocampus-models/data/paper-results/experiment-appendix-capacity/runs/n_rules_multiple/nr:7_nc:32_at:0.csv\n"
     ]
    }
   ],
   "source": [
    "n_steps_n_rules = rule_switch_at * 7\n",
    "for n_rules in n_rules_list: \n",
    "    run_experiment(\n",
    "        n_clones=32, \n",
    "        added_task_size=0, \n",
    "        n_rules_model=n_rules,\n",
    "        store_path_=store_path / \"n_rules_multiple\", \n",
    "        n_trials=n_trials,\n",
    "        n_steps=n_steps_n_rules, \n",
    "        switch_rule_every=rule_switch_at, \n",
    "        n_rules=n_rules\n",
    "    )"
   ]
  },
  {
   "cell_type": "code",
   "execution_count": 16,
   "metadata": {},
   "outputs": [
    {
     "name": "stdout",
     "output_type": "stream",
     "text": [
      "Trial 0\n",
      "8\n",
      "75.00% \tfor rule  0\n",
      "7\n",
      "100.00% \tfor rule  1\n",
      "7\n",
      "100.00% \tfor rule  2\n",
      "7\n",
      "33.33% \tfor rule  0\n",
      "7\n",
      "0.00% \tfor rule  1\n",
      "7\n",
      "66.67% \tfor rule  2\n",
      "\n",
      "Trial 1\n",
      "8\n",
      "75.00% \tfor rule  0\n",
      "6\n",
      "0.00% \tfor rule  1\n",
      "7\n",
      "66.67% \tfor rule  2\n",
      "7\n",
      "0.00% \tfor rule  0\n",
      "6\n",
      "100.00% \tfor rule  1\n",
      "6\n",
      "100.00% \tfor rule  2\n",
      "\n",
      "Trial 2\n",
      "7\n",
      "100.00% \tfor rule  0\n",
      "6\n",
      "100.00% \tfor rule  1\n",
      "7\n",
      "100.00% \tfor rule  2\n",
      "8\n",
      "50.00% \tfor rule  0\n",
      "7\n",
      "0.00% \tfor rule  1\n",
      "7\n",
      "66.67% \tfor rule  2\n",
      "\n",
      "Trial 3\n",
      "7\n",
      "66.67% \tfor rule  0\n",
      "6\n",
      "0.00% \tfor rule  1\n",
      "7\n",
      "100.00% \tfor rule  2\n",
      "8\n",
      "0.00% \tfor rule  0\n",
      "7\n",
      "0.00% \tfor rule  1\n",
      "7\n",
      "66.67% \tfor rule  2\n",
      "\n",
      "Trial 4\n",
      "8\n",
      "0.00% \tfor rule  0\n",
      "7\n",
      "100.00% \tfor rule  1\n",
      "6\n",
      "100.00% \tfor rule  2\n",
      "7\n",
      "33.33% \tfor rule  0\n",
      "6\n",
      "0.00% \tfor rule  1\n",
      "7\n",
      "100.00% \tfor rule  2\n",
      "\n"
     ]
    }
   ],
   "source": [
    "def inferred_rule(data_tot):\n",
    "    for trial in data_tot['trial'].unique():\n",
    "        print(\"Trial\", trial)\n",
    "        data = data_tot[data_tot['trial'] == trial]\n",
    "        data = data[data[\"pos_y\"] == 1]\n",
    "        datat = data[data[\"pos_dir\"] == 3]\n",
    "\n",
    "        for i in range(0, n_steps, rule_switch_at):\n",
    "            data = datat[datat['time'] > i+50]\n",
    "            data = data[data['time'] < i+rule_switch_at]\n",
    "\n",
    "            r = data['reward'].tolist()\n",
    "            #print(np.mean(r), r)\n",
    "            corrects = []\n",
    "            print(len(r))\n",
    "            for i in range(len(r)-4): \n",
    "                c = np.sum(r[i:i+4]) == 4\n",
    "                corrects.append(c)\n",
    "        \n",
    "            print(f\"{np.sum(corrects)/len(corrects)*100:0.02f}%\", \"\\tfor rule \", data['rules'].unique()[0])\n",
    "\n",
    "        print()\n",
    "\n",
    "    return\n",
    "\n",
    "n_clones = 32\n",
    "tag = f\"nr:3_nc:{n_clones}_at:0\"\n",
    "data = pd.read_csv(store_path / f\"rule_length_multiple_rule/{tag}.csv\")\n",
    "inferred_rule(data)"
   ]
  },
  {
   "cell_type": "code",
   "execution_count": 20,
   "metadata": {},
   "outputs": [
    {
     "data": {
      "image/png": "[encoded data removed]",
      "text/plain": [
       "<Figure size 700x200 with 1 Axes>"
      ]
     },
     "metadata": {},
     "output_type": "display_data"
    },
    {
     "data": {
      "image/png": "[encoded data removed]",
      "text/plain": [
       "<Figure size 700x200 with 1 Axes>"
      ]
     },
     "metadata": {},
     "output_type": "display_data"
    },
    {
     "data": {
      "image/png": "[encoded data removed]",
      "text/plain": [
       "<Figure size 700x200 with 1 Axes>"
      ]
     },
     "metadata": {},
     "output_type": "display_data"
    }
   ],
   "source": [
    "def format_ax(a):\n",
    "    a.set_facecolor(\"whitesmoke\")\n",
    "    a.grid(\"on\", linestyle=\"dashed\")\n",
    "    a.set_axisbelow(True)\n",
    "\n",
    "def plot_sequence(vals, label, ax, color='b'):\n",
    "    xyc = np.array([[k, v.mean().item(), 1.96 * v.std().item() / np.sqrt(v.size)] for k, v in vals.items()])\n",
    "    x = xyc[:, 0]\n",
    "    y = xyc[:, 1]\n",
    "    c = xyc[:, 2]\n",
    "    x, y, ci = x[x.argsort()], y [x.argsort()], c[x.argsort()]\n",
    "\n",
    "    ax.fill_between(x, (y-ci), (y+ci), color=color, alpha=.1)\n",
    "    ax.plot(x,y, marker='.', label=label, color=color)\n",
    "\n",
    "def get_mean_reward(data):\n",
    "    data = data[data[\"pos_y\"] == 1]\n",
    "    data = data[data[\"pos_dir\"] == 3]\n",
    "\n",
    "    ds = []\n",
    "    for i in range(0, data['time'].max(), rule_switch_at):\n",
    "        d = data[data['time'] > i]\n",
    "        d = d[d['time'] > (i+50)]\n",
    "        d = d[d['time'] < (i+rule_switch_at)]\n",
    "        ds.append(d)\n",
    "    \n",
    "    data = pd.concat(ds)\n",
    "\n",
    "    return  data.groupby(['trial']).mean(['reward'])['reward']\n",
    "\n",
    "\n",
    "def plot_performance(n_clones_list, added_length_list, n_rules_list):\n",
    "\n",
    "    # N clones values\n",
    "    vals_nc_single  = {}\n",
    "    vals_nc_multiple  = {}\n",
    "    for n_clones in n_clones_list:\n",
    "        tag = f\"nr:1_nc:{n_clones}_at:0\"\n",
    "        data = pd.read_csv(store_path / f\"clones_single_rule/{tag}.csv\")\n",
    "        vals_nc_single[n_clones] = get_mean_reward(data)\n",
    "\n",
    "\n",
    "        tag = f\"nr:3_nc:{n_clones}_at:0\"\n",
    "        data = pd.read_csv(store_path / f\"clones_multiple_rule/{tag}.csv\")\n",
    "        vals_nc_multiple[n_clones] = get_mean_reward(data)\n",
    "\n",
    "    # added task length values\n",
    "    vals_at_single = {}\n",
    "    vals_at_multiple = {}\n",
    "    n_clones = 32\n",
    "    for added_length in added_length_list:\n",
    "        tag = f\"nr:1_nc:10_at:{added_length}\"\n",
    "        data = pd.read_csv(store_path / f\"rule_length_single_rule/{tag}.csv\")\n",
    "        vals_at_single[added_length] = get_mean_reward(data)\n",
    "\n",
    "        tag = f\"nr:3_nc:32_at:{added_length}\"\n",
    "        data = pd.read_csv(store_path / f\"rule_length_multiple_rule/{tag}.csv\")\n",
    "        vals_at_multiple[added_length] = get_mean_reward(data)\n",
    "\n",
    "    # n rules values\n",
    "    vals_nr = {}\n",
    "    n_clones = 32\n",
    "    for n_rules in n_rules_list:\n",
    "        tag = f\"nr:{n_rules}_nc:{n_clones}_at:0\"\n",
    "        data = pd.read_csv(store_path / f\"n_rules_multiple/{tag}.csv\")\n",
    "        vals_nr[n_rules] = get_mean_reward(data)\n",
    "\n",
    "    # =\n",
    "    fig, ax = plt.subplots(1,1,figsize=(7, 2))\n",
    "    format_ax(ax)\n",
    "    plot_sequence(vals_nc_single, \"1 rule\", ax, color='tab:blue')\n",
    "    plot_sequence(vals_nc_multiple, \"3 rules\", ax, color='tab:orange')\n",
    "    ax.set_xlabel('Amount of clones')\n",
    "    ax.set_ylabel(\"Average reward\")\n",
    "    ax.legend()\n",
    "    ax.set_ylim([0, 1.05])\n",
    "    plt.savefig(store_path / \"capacity_plot_a.svg\", bbox_inches='tight')\n",
    "    plt.show()\n",
    "\n",
    "    fig, ax = plt.subplots(1,1,figsize=(7, 2))\n",
    "    format_ax(ax)\n",
    "    plot_sequence(vals_at_single, \"1 rule (10 clones)\", ax, color='tab:blue')\n",
    "    plot_sequence(vals_at_multiple, \"3 rules (32 clones)\", ax, color='tab:orange')\n",
    "    ax.set_xlabel('Rule length')\n",
    "    ax.set_ylabel(\"Average reward\")\n",
    "    ax.legend()\n",
    "    ax.set_xticks([0, 1,2,3])\n",
    "    ax.set_xticklabels([4, 5, 6, 7])\n",
    "    ax.set_ylim([0, 1.05])\n",
    "    plt.savefig(store_path / \"capacity_plot_b.svg\", bbox_inches='tight')\n",
    "    plt.show()\n",
    "\n",
    "    fig, ax = plt.subplots(1,1,figsize=(7, 2))\n",
    "    format_ax(ax)\n",
    "    plot_sequence(vals_nr, \"32 clones\", ax, color='tab:blue')\n",
    "    ax.set_xlabel('Number of rules (length=4)')\n",
    "    ax.set_ylabel(\"Average reward\")\n",
    "    ax.set_ylim([0, 1.05])\n",
    "    ax.legend()\n",
    "    plt.savefig(store_path / \"capacity_plot_c.svg\", bbox_inches='tight')\n",
    "    plt.show()\n",
    "    # =\n",
    "\n",
    "\n",
    "plot_performance(n_clones_list, added_task_size_list, n_rules_list)"
   ]
  }
 ],
 "metadata": {
  "kernelspec": {
   "display_name": "hippo",
   "language": "python",
   "name": "python3"
  },
  "language_info": {
   "codemirror_mode": {
    "name": "ipython",
    "version": 3
   },
   "file_extension": ".py",
   "mimetype": "text/x-python",
   "name": "python",
   "nbconvert_exporter": "python",
   "pygments_lexer": "ipython3",
   "version": "3.11.6"
  }
 },
 "nbformat": 4,
 "nbformat_minor": 2
}
